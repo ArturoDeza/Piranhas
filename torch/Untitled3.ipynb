{
 "cells": [
  {
   "cell_type": "code",
   "execution_count": 1,
   "metadata": {
    "collapsed": true
   },
   "outputs": [],
   "source": [
    "require 'piranhas'\n",
    "require 'torch'\n",
    "require 'gnuplot'\n",
    "\n",
    "param = param:param_init_all(nil)\n",
    "\n",
    "scale = param.scale\n",
    "fovea = param.fovea\n",
    "e0_in_deg = param.e0_in_deg\n",
    "visual_field_radius_in_deg = param.visual_field_radius_in_deg\n",
    "deg_per_pixel = param.deg_per_pixel\n",
    "\n",
    "-- Get Peripheral Architecture Parameters:\n",
    "\n",
    "N_e, N_theta  = get_pooling_parameters(scale,e0_in_deg,visual_field_radius_in_deg,deg_per_pixel)\n",
    "\n",
    "e_max = visual_field_radius_in_deg\n",
    "visual_field_width = math.floor(0.5 + 2*(visual_field_radius_in_deg/deg_per_pixel))"
   ]
  },
  {
   "cell_type": "code",
   "execution_count": 3,
   "metadata": {
    "collapsed": false
   },
   "outputs": [
    {
     "ename": "[string \"regions = create_regions_vector_smooth(e0_in_...\"]:1: attempt to call global 'create_regions_vector_smooth' (a nil value)\nstack traceback:\n\t[string \"regions = create_regions_vector_smooth(e0_in_...\"]:1: in main chunk\n\t[C]: in function 'xpcall'\n\t/home/arturo/torch/install/share/lua/5.1/itorch/main.lua:209: in function </home/arturo/torch/install/share/lua/5.1/itorch/main.lua:173>\n\t/home/arturo/torch/install/share/lua/5.1/lzmq/poller.lua:75: in function 'poll'\n\t/home/arturo/torch/install/share/lua/5.1/lzmq/impl/loop.lua:307: in function 'poll'\n\t/home/arturo/torch/install/share/lua/5.1/lzmq/impl/loop.lua:325: in function 'sleep_ex'\n\t/home/arturo/torch/install/share/lua/5.1/lzmq/impl/loop.lua:370: in function 'start'\n\t/home/arturo/torch/install/share/lua/5.1/itorch/main.lua:381: in main chunk\n\t[C]: in function 'require'\n\t(command line):1: in main chunk\n\t[C]: at 0x00406670",
     "evalue": "",
     "output_type": "error",
     "traceback": [
      "[string \"regions = create_regions_vector_smooth(e0_in_...\"]:1: attempt to call global 'create_regions_vector_smooth' (a nil value)\nstack traceback:\n\t[string \"regions = create_regions_vector_smooth(e0_in_...\"]:1: in main chunk\n\t[C]: in function 'xpcall'\n\t/home/arturo/torch/install/share/lua/5.1/itorch/main.lua:209: in function </home/arturo/torch/install/share/lua/5.1/itorch/main.lua:173>\n\t/home/arturo/torch/install/share/lua/5.1/lzmq/poller.lua:75: in function 'poll'\n\t/home/arturo/torch/install/share/lua/5.1/lzmq/impl/loop.lua:307: in function 'poll'\n\t/home/arturo/torch/install/share/lua/5.1/lzmq/impl/loop.lua:325: in function 'sleep_ex'\n\t/home/arturo/torch/install/share/lua/5.1/lzmq/impl/loop.lua:370: in function 'start'\n\t/home/arturo/torch/install/share/lua/5.1/itorch/main.lua:381: in main chunk\n\t[C]: in function 'require'\n\t(command line):1: in main chunk\n\t[C]: at 0x00406670"
     ]
    }
   ],
   "source": [
    "regions = create_regions_vector_smooth(e0_in_deg,e_max,visual_field_width,deg_per_pixel,N_theta,N_e)"
   ]
  },
  {
   "cell_type": "code",
   "execution_count": null,
   "metadata": {
    "collapsed": true
   },
   "outputs": [],
   "source": []
  }
 ],
 "metadata": {
  "kernelspec": {
   "display_name": "iTorch",
   "language": "lua",
   "name": "itorch"
  },
  "language_info": {
   "name": "lua",
   "version": "5.1"
  }
 },
 "nbformat": 4,
 "nbformat_minor": 0
}
