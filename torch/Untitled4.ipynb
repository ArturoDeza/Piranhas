{
 "cells": [
  {
   "cell_type": "code",
   "execution_count": 1,
   "metadata": {
    "collapsed": true
   },
   "outputs": [],
   "source": [
    "require 'piranhas'\n",
    "require 'torch'\n",
    "require 'gnuplot'\n",
    "\n",
    "param = param:param_init_all(nil)\n",
    "\n",
    "scale = param.scale\n",
    "fovea = param.fovea\n",
    "e0_in_deg = param.e0_in_deg\n",
    "visual_field_radius_in_deg = param.visual_field_radius_in_deg\n",
    "deg_per_pixel = param.deg_per_pixel\n",
    "\n",
    "-- Get Peripheral Architecture Parameters:\n",
    "\n",
    "N_e, N_theta  = get_pooling_parameters(scale,e0_in_deg,visual_field_radius_in_deg,deg_per_pixel)\n",
    "\n",
    "e_max = visual_field_radius_in_deg\n",
    "visual_field_width = math.floor(0.5 + 2*(visual_field_radius_in_deg/deg_per_pixel))\n"
   ]
  },
  {
   "cell_type": "code",
   "execution_count": 2,
   "metadata": {
    "collapsed": true
   },
   "outputs": [],
   "source": [
    "regions = create_regions_vector_smooth(e0_in_deg,e_max,visual_field_width,deg_per_pixel,N_theta,N_e)"
   ]
  },
  {
   "cell_type": "raw",
   "metadata": {},
   "source": [
    "regions:size()"
   ]
  },
  {
   "cell_type": "code",
   "execution_count": 3,
   "metadata": {
    "collapsed": false
   },
   "outputs": [
    {
     "data": {
      "text/plain": [
       " 477\n",
       " 477\n",
       "  25\n",
       "   8\n",
       "[torch.LongStorage of size 4]\n",
       "\n"
      ]
     },
     "execution_count": 3,
     "metadata": {},
     "output_type": "execute_result"
    }
   ],
   "source": [
    "regions:size()"
   ]
  },
  {
   "cell_type": "code",
   "execution_count": 4,
   "metadata": {
    "collapsed": true
   },
   "outputs": [],
   "source": [
    "regions2 = regions:permute(3,4,1,2)\n"
   ]
  },
  {
   "cell_type": "code",
   "execution_count": 5,
   "metadata": {
    "collapsed": false
   },
   "outputs": [
    {
     "data": {
      "text/plain": [
       "  25\n",
       "   8\n",
       " 477\n",
       " 477\n",
       "[torch.LongStorage of size 4]\n",
       "\n"
      ]
     },
     "execution_count": 5,
     "metadata": {},
     "output_type": "execute_result"
    }
   ],
   "source": [
    "regions2:size()"
   ]
  },
  {
   "cell_type": "code",
   "execution_count": 6,
   "metadata": {
    "collapsed": false
   },
   "outputs": [
    {
     "ename": "[string \"M = torch.zeros(((3,3,3)))...\"]:1: ')' expected near ','",
     "evalue": "",
     "output_type": "error",
     "traceback": [
      "[string \"M = torch.zeros(((3,3,3)))...\"]:1: ')' expected near ','"
     ]
    }
   ],
   "source": [
    "M = torch.zeros(((3,3,3)))\n"
   ]
  },
  {
   "cell_type": "code",
   "execution_count": 7,
   "metadata": {
    "collapsed": true
   },
   "outputs": [],
   "source": [
    "M = torch.zeros(3,3)"
   ]
  },
  {
   "cell_type": "code",
   "execution_count": 8,
   "metadata": {
    "collapsed": false
   },
   "outputs": [
    {
     "data": {
      "text/plain": [
       " 0  0  0\n",
       " 0  0  0\n",
       " 0  0  0\n",
       "[torch.DoubleTensor of size 3x3]\n",
       "\n"
      ]
     },
     "execution_count": 8,
     "metadata": {},
     "output_type": "execute_result"
    }
   ],
   "source": [
    "M"
   ]
  },
  {
   "cell_type": "code",
   "execution_count": 9,
   "metadata": {
    "collapsed": true
   },
   "outputs": [],
   "source": [
    "M = torch.zeros(3,3,3)"
   ]
  },
  {
   "cell_type": "code",
   "execution_count": 10,
   "metadata": {
    "collapsed": false
   },
   "outputs": [
    {
     "data": {
      "text/plain": [
       "(1,.,.) = \n",
       "  0  0  0\n",
       "  0  0  0\n",
       "  0  0  0\n",
       "\n",
       "(2,.,.) = \n",
       "  0  0  0\n",
       "  0  0  0\n",
       "  0  0  0\n",
       "\n",
       "(3,.,.) = \n",
       "  0  0  0\n",
       "  0  0  0\n",
       "  0  0  0\n",
       "[torch.DoubleTensor of size 3x3x3]\n",
       "\n"
      ]
     },
     "execution_count": 10,
     "metadata": {},
     "output_type": "execute_result"
    }
   ],
   "source": [
    "M\n"
   ]
  },
  {
   "cell_type": "code",
   "execution_count": null,
   "metadata": {
    "collapsed": true
   },
   "outputs": [],
   "source": []
  },
  {
   "cell_type": "code",
   "execution_count": 11,
   "metadata": {
    "collapsed": true
   },
   "outputs": [],
   "source": [
    "mask = torch.zeros(visual_field_width,visual_field_width)"
   ]
  },
  {
   "cell_type": "code",
   "execution_count": 12,
   "metadata": {
    "collapsed": false
   },
   "outputs": [
    {
     "ename": "[string \"nt=1...\"]:3: unexpected symbol near ':'",
     "evalue": "",
     "output_type": "error",
     "traceback": [
      "[string \"nt=1...\"]:3: unexpected symbol near ':'"
     ]
    }
   ],
   "source": [
    "nt=1\n",
    "ne=1\n",
    "mask = regions2(nt,ne,:,:)"
   ]
  },
  {
   "cell_type": "code",
   "execution_count": 13,
   "metadata": {
    "collapsed": false
   },
   "outputs": [
    {
     "data": {
      "text/plain": [
       "\n"
      ]
     },
     "execution_count": 13,
     "metadata": {},
     "output_type": "execute_result"
    }
   ],
   "source": [
    "nt"
   ]
  },
  {
   "cell_type": "code",
   "execution_count": 14,
   "metadata": {
    "collapsed": true
   },
   "outputs": [],
   "source": [
    "nt=1\n",
    "ne=1"
   ]
  },
  {
   "cell_type": "code",
   "execution_count": 15,
   "metadata": {
    "collapsed": false
   },
   "outputs": [
    {
     "data": {
      "text/plain": [
       "1\t\n"
      ]
     },
     "execution_count": 15,
     "metadata": {},
     "output_type": "execute_result"
    }
   ],
   "source": [
    "nt"
   ]
  },
  {
   "cell_type": "code",
   "execution_count": 17,
   "metadata": {
    "collapsed": false
   },
   "outputs": [
    {
     "ename": "[string \"mask = regions2[nt][ne][:][:]...\"]:1: unexpected symbol near ':'",
     "evalue": "",
     "output_type": "error",
     "traceback": [
      "[string \"mask = regions2[nt][ne][:][:]...\"]:1: unexpected symbol near ':'"
     ]
    }
   ],
   "source": [
    "mask = regions2[nt][ne][:][:]"
   ]
  },
  {
   "cell_type": "code",
   "execution_count": 18,
   "metadata": {
    "collapsed": true
   },
   "outputs": [],
   "source": [
    "mask = regions[{{nt},{ne},{},{}}]\n"
   ]
  },
  {
   "cell_type": "code",
   "execution_count": 19,
   "metadata": {
    "collapsed": false
   },
   "outputs": [
    {
     "data": {
      "text/plain": [
       "(1,1,.,.) = \n",
       "  0.0000  0.0000  0.0000  0.0000  0.0000  0.0000  0.0000  0.0000\n",
       "  0.0000  0.0000  0.0000  0.0000  0.0000  0.0000  0.0000  0.0000\n",
       "  0.0000  0.0000  0.0000  0.0000  0.0000  0.0000  0.0000  0.0000\n",
       "  0.0000  0.0000  0.0000  0.0000  0.0000  0.0000  0.0000  0.0000\n",
       "  0.0000  0.0000  0.0000  0.0000  0.0000  0.0000  0.0000  0.0000\n",
       "  0.0000  0.0000  0.0000  0.0000  0.0000  0.0000  0.0000  0.0000\n",
       "  0.0000  0.0000  0.0000  0.0000  0.0000  0.0000  0.0000  0.0000\n",
       "  0.0000  0.0000  0.0000  0.0000  0.0000  0.0000  0.0000  0.0000\n",
       "  0.0000  0.0000  0.0000  0.0000  0.0000  0.0000  0.0000  0.0000\n",
       "  0.0000  0.0000  0.0000  0.0000  0.0000  0.0000  0.0000  0.0000\n",
       "  0.0000  0.0000  0.0000  0.0000  0.0000  0.0000  0.0000  0.0000\n",
       "  0.0000  0.0000  0.0000  0.0000  0.0000  0.0000  0.0000  0.0000\n",
       "  0.0000  0.0000  0.0000  0.0000  0.0000  0.0000  0.0000  0.0000\n",
       "  0.0000  0.0000  0.0000  0.0000  0.0000  0.0000  0.0000  0.0000\n",
       "  0.0000  0.0000  0.0000  0.0000  0.0000  0.0000  0.0000  0.0000\n",
       "  0.0000  0.0000  0.0000  0.0000  0.0000  0.0000  0.0000  0.0000\n",
       "  0.0000  0.0000  0.0000  0.0000  0.0000  0.0000  0.0000  0.0000\n",
       "  0.0000  0.0000  0.0000  0.0000  0.0000  0.0000  0.0000  0.0000\n",
       "  0.0000  0.0000  0.0000  0.0000  0.0000  0.0000  0.0000  0.0000\n",
       "  0.0000  0.0000  0.0000  0.0000  0.0000  0.0000  0.0000  0.0000\n",
       "  0.0000  0.0000  0.0000  0.0000  0.0000  0.0000  0.0000  0.0000\n",
       "  0.0000  0.0000  0.0000  0.0000  0.0000  0.0000  0.0000  0.9726\n",
       "  0.0000  0.0000  0.0000  0.0000  0.0000  0.0000  0.0000  0.0274\n",
       "  0.0000  0.0000  0.0000  0.0000  0.0000  0.0000  0.0000  0.0000\n",
       "  0.0000  0.0000  0.0000  0.0000  0.0000  0.0000  0.0000  0.0000\n",
       "[torch.DoubleTensor of size 1x1x25x8]\n",
       "\n"
      ]
     },
     "execution_count": 19,
     "metadata": {},
     "output_type": "execute_result"
    }
   ],
   "source": [
    "mask"
   ]
  },
  {
   "cell_type": "code",
   "execution_count": 20,
   "metadata": {
    "collapsed": false
   },
   "outputs": [
    {
     "ename": "[string \"[r,c] = mask:gt(0)...\"]:1: unexpected symbol near '['",
     "evalue": "",
     "output_type": "error",
     "traceback": [
      "[string \"[r,c] = mask:gt(0)...\"]:1: unexpected symbol near '['"
     ]
    }
   ],
   "source": [
    "[r,c] = mask:gt(0)"
   ]
  },
  {
   "cell_type": "code",
   "execution_count": 21,
   "metadata": {
    "collapsed": false
   },
   "outputs": [
    {
     "data": {
      "text/plain": [
       "(1,1,.,.) = \n",
       "  0  0  0  0  0  0  0  0\n",
       "  0  0  0  0  0  0  0  0\n",
       "  0  0  0  0  0  0  0  0\n",
       "  0  0  0  0  0  0  0  0\n",
       "  0  0  0  0  0  0  0  0\n",
       "  0  0  0  0  0  0  0  0\n",
       "  0  0  0  0  0  0  0  0\n",
       "  0  0  0  0  0  0  0  0\n",
       "  0  0  0  0  0  0  0  0\n",
       "  0  0  0  0  0  0  0  0\n",
       "  0  0  0  0  0  0  0  0\n",
       "  0  0  0  0  0  0  0  0\n",
       "  0  0  0  0  0  0  0  0\n",
       "  0  0  0  0  0  0  0  0\n",
       "  0  0  0  0  0  0  0  0\n",
       "  0  0  0  0  0  0  0  0\n",
       "  0  0  0  0  0  0  0  0\n",
       "  0  0  0  0  0  0  0  0\n",
       "  0  0  0  0  0  0  0  0\n",
       "  0  0  0  0  0  0  0  0\n",
       "  0  0  0  0  0  0  0  0\n",
       "  0  0  0  0  0  0  0  1\n",
       "  0  0  0  0  0  0  0  1\n",
       "  0  0  0  0  0  0  0  0\n",
       "  0  0  0  0  0  0  0  0\n",
       "[torch.ByteTensor of size 1x1x25x8]\n",
       "\n"
      ]
     },
     "execution_count": 21,
     "metadata": {},
     "output_type": "execute_result"
    }
   ],
   "source": [
    "mask:gt(0)"
   ]
  },
  {
   "cell_type": "code",
   "execution_count": 22,
   "metadata": {
    "collapsed": false
   },
   "outputs": [
    {
     "data": {
      "text/plain": [
       "(1,1,.,.) = \n",
       "  0.0000  0.0000  0.0000  0.0000  0.0000  0.0000  0.0000  0.0000\n",
       "  0.0000  0.0000  0.0000  0.0000  0.0000  0.0000  0.0000  0.0000\n",
       "  0.0000  0.0000  0.0000  0.0000  0.0000  0.0000  0.0000  0.0000\n",
       "  0.0000  0.0000  0.0000  0.0000  0.0000  0.0000  0.0000  0.0000\n",
       "  0.0000  0.0000  0.0000  0.0000  0.0000  0.0000  0.0000  0.0000\n",
       "  0.0000  0.0000  0.0000  0.0000  0.0000  0.0000  0.0000  0.0000\n",
       "  0.0000  0.0000  0.0000  0.0000  0.0000  0.0000  0.0000  0.0000\n",
       "  0.0000  0.0000  0.0000  0.0000  0.0000  0.0000  0.0000  0.0000\n",
       "  0.0000  0.0000  0.0000  0.0000  0.0000  0.0000  0.0000  0.0000\n",
       "  0.0000  0.0000  0.0000  0.0000  0.0000  0.0000  0.0000  0.0000\n",
       "  0.0000  0.0000  0.0000  0.0000  0.0000  0.0000  0.0000  0.0000\n",
       "  0.0000  0.0000  0.0000  0.0000  0.0000  0.0000  0.0000  0.0000\n",
       "  0.0000  0.0000  0.0000  0.0000  0.0000  0.0000  0.0000  0.0000\n",
       "  0.0000  0.0000  0.0000  0.0000  0.0000  0.0000  0.0000  0.0000\n",
       "  0.0000  0.0000  0.0000  0.0000  0.0000  0.0000  0.0000  0.0000\n",
       "  0.0000  0.0000  0.0000  0.0000  0.0000  0.0000  0.0000  0.0000\n",
       "  0.0000  0.0000  0.0000  0.0000  0.0000  0.0000  0.0000  0.0000\n",
       "  0.0000  0.0000  0.0000  0.0000  0.0000  0.0000  0.0000  0.0000\n",
       "  0.0000  0.0000  0.0000  0.0000  0.0000  0.0000  0.0000  0.0000\n",
       "  0.0000  0.0000  0.0000  0.0000  0.0000  0.0000  0.0000  0.0000\n",
       "  0.0000  0.0000  0.0000  0.0000  0.0000  0.0000  0.0000  0.0000\n",
       "  0.0000  0.0000  0.0000  0.0000  0.0000  0.0000  0.0000  0.9726\n",
       "  0.0000  0.0000  0.0000  0.0000  0.0000  0.0000  0.0000  0.0274\n",
       "  0.0000  0.0000  0.0000  0.0000  0.0000  0.0000  0.0000  0.0000\n",
       "  0.0000  0.0000  0.0000  0.0000  0.0000  0.0000  0.0000  0.0000\n",
       "[torch.DoubleTensor of size 1x1x25x8]\n",
       "\n"
      ]
     },
     "execution_count": 22,
     "metadata": {},
     "output_type": "execute_result"
    }
   ],
   "source": [
    "mask"
   ]
  },
  {
   "cell_type": "code",
   "execution_count": 23,
   "metadata": {
    "collapsed": true
   },
   "outputs": [],
   "source": [
    "\t\t\tmask_indxs = mask:maskedSelect(mask:gt(0))"
   ]
  },
  {
   "cell_type": "code",
   "execution_count": 24,
   "metadata": {
    "collapsed": false
   },
   "outputs": [
    {
     "data": {
      "text/plain": [
       " 0.9726\n",
       " 0.0274\n",
       "[torch.DoubleTensor of size 2]\n",
       "\n"
      ]
     },
     "execution_count": 24,
     "metadata": {},
     "output_type": "execute_result"
    }
   ],
   "source": [
    "mask_indxs"
   ]
  },
  {
   "cell_type": "code",
   "execution_count": 25,
   "metadata": {
    "collapsed": true
   },
   "outputs": [],
   "source": [
    "\t\t\tmask_indxs_r, mask_indx_c = torch.nonzero(mask)\n"
   ]
  },
  {
   "cell_type": "code",
   "execution_count": 26,
   "metadata": {
    "collapsed": false
   },
   "outputs": [
    {
     "data": {
      "text/plain": [
       "  1   1  22   8\n",
       "  1   1  23   8\n",
       "[torch.LongTensor of size 2x4]\n",
       "\n"
      ]
     },
     "execution_count": 26,
     "metadata": {},
     "output_type": "execute_result"
    }
   ],
   "source": [
    "mask_indxs_r"
   ]
  },
  {
   "cell_type": "code",
   "execution_count": 27,
   "metadata": {
    "collapsed": true
   },
   "outputs": [],
   "source": [
    "mask = torch.squeeze(mask)"
   ]
  },
  {
   "cell_type": "code",
   "execution_count": 28,
   "metadata": {
    "collapsed": false
   },
   "outputs": [
    {
     "data": {
      "text/plain": [
       " 0.0000  0.0000  0.0000  0.0000  0.0000  0.0000  0.0000  0.0000\n",
       " 0.0000  0.0000  0.0000  0.0000  0.0000  0.0000  0.0000  0.0000\n",
       " 0.0000  0.0000  0.0000  0.0000  0.0000  0.0000  0.0000  0.0000\n",
       " 0.0000  0.0000  0.0000  0.0000  0.0000  0.0000  0.0000  0.0000\n",
       " 0.0000  0.0000  0.0000  0.0000  0.0000  0.0000  0.0000  0.0000\n",
       " 0.0000  0.0000  0.0000  0.0000  0.0000  0.0000  0.0000  0.0000\n",
       " 0.0000  0.0000  0.0000  0.0000  0.0000  0.0000  0.0000  0.0000\n",
       " 0.0000  0.0000  0.0000  0.0000  0.0000  0.0000  0.0000  0.0000\n",
       " 0.0000  0.0000  0.0000  0.0000  0.0000  0.0000  0.0000  0.0000\n",
       " 0.0000  0.0000  0.0000  0.0000  0.0000  0.0000  0.0000  0.0000\n",
       " 0.0000  0.0000  0.0000  0.0000  0.0000  0.0000  0.0000  0.0000\n",
       " 0.0000  0.0000  0.0000  0.0000  0.0000  0.0000  0.0000  0.0000\n",
       " 0.0000  0.0000  0.0000  0.0000  0.0000  0.0000  0.0000  0.0000\n",
       " 0.0000  0.0000  0.0000  0.0000  0.0000  0.0000  0.0000  0.0000\n",
       " 0.0000  0.0000  0.0000  0.0000  0.0000  0.0000  0.0000  0.0000\n",
       " 0.0000  0.0000  0.0000  0.0000  0.0000  0.0000  0.0000  0.0000\n",
       " 0.0000  0.0000  0.0000  0.0000  0.0000  0.0000  0.0000  0.0000\n",
       " 0.0000  0.0000  0.0000  0.0000  0.0000  0.0000  0.0000  0.0000\n",
       " 0.0000  0.0000  0.0000  0.0000  0.0000  0.0000  0.0000  0.0000\n",
       " 0.0000  0.0000  0.0000  0.0000  0.0000  0.0000  0.0000  0.0000\n",
       " 0.0000  0.0000  0.0000  0.0000  0.0000  0.0000  0.0000  0.0000\n",
       " 0.0000  0.0000  0.0000  0.0000  0.0000  0.0000  0.0000  0.9726\n",
       " 0.0000  0.0000  0.0000  0.0000  0.0000  0.0000  0.0000  0.0274\n",
       " 0.0000  0.0000  0.0000  0.0000  0.0000  0.0000  0.0000  0.0000\n",
       " 0.0000  0.0000  0.0000  0.0000  0.0000  0.0000  0.0000  0.0000\n",
       "[torch.DoubleTensor of size 25x8]\n",
       "\n"
      ]
     },
     "execution_count": 28,
     "metadata": {},
     "output_type": "execute_result"
    }
   ],
   "source": [
    "mask"
   ]
  },
  {
   "cell_type": "code",
   "execution_count": 29,
   "metadata": {
    "collapsed": true
   },
   "outputs": [],
   "source": [
    "\t\t\tmask = regions[{{nt},{ne},{},{}}]\n",
    "\t\t\tmask = torch.squeeze(mask)\n",
    "\n",
    "\t\t\tmask_indxs_r, mask_indx_c = torch.nonzero(mask)"
   ]
  },
  {
   "cell_type": "code",
   "execution_count": 30,
   "metadata": {
    "collapsed": false
   },
   "outputs": [
    {
     "data": {
      "text/plain": [
       " 22   8\n",
       " 23   8\n",
       "[torch.LongTensor of size 2x2]\n",
       "\n"
      ]
     },
     "execution_count": 30,
     "metadata": {},
     "output_type": "execute_result"
    }
   ],
   "source": [
    "mask_indxs_r"
   ]
  },
  {
   "cell_type": "code",
   "execution_count": 31,
   "metadata": {
    "collapsed": false
   },
   "outputs": [
    {
     "data": {
      "text/plain": [
       "\n"
      ]
     },
     "execution_count": 31,
     "metadata": {},
     "output_type": "execute_result"
    }
   ],
   "source": [
    "mask_indxs_c"
   ]
  },
  {
   "cell_type": "code",
   "execution_count": 36,
   "metadata": {
    "collapsed": false
   },
   "outputs": [
    {
     "data": {
      "text/plain": [
       "2\t\n"
      ]
     },
     "execution_count": 36,
     "metadata": {},
     "output_type": "execute_result"
    }
   ],
   "source": [
    "mask_indxs_r[{{},{1}}]:size(1)"
   ]
  },
  {
   "cell_type": "code",
   "execution_count": 37,
   "metadata": {
    "collapsed": false
   },
   "outputs": [
    {
     "ename": "[string \"...\"]:11: unexpected symbol near '['",
     "evalue": "",
     "output_type": "error",
     "traceback": [
      "[string \"...\"]:11: unexpected symbol near '['"
     ]
    }
   ],
   "source": [
    "\tfor nt=1,N_theta do\n",
    "\t\tfor ne=1,N_e do\n",
    "\t\t\t\n",
    "\t\t\tmask = regions[{{nt},{ne},{},{}}]\n",
    "\t\t\tmask = torch.squeeze(mask)\n",
    "\n",
    "\t\t\tmask_indxs = torch.nonzero(mask)\n",
    "\t\t\tr = mask_indxs[{{},{1}}]\n",
    "\t\t\tc = mask_indxs[{{},{2}}]\n",
    "\n",
    "\t\t\tcenters[{{},{nt},{ne}}] = [torch.mean(r) torch.mean(c)]\n",
    "\t\t\tareas[{{nt},{ne}}] = r:size(1)\n",
    "\n",
    "\t\tend\n",
    "\tend"
   ]
  },
  {
   "cell_type": "code",
   "execution_count": 38,
   "metadata": {
    "collapsed": false
   },
   "outputs": [
    {
     "data": {
      "text/plain": [
       "\n"
      ]
     },
     "execution_count": 38,
     "metadata": {},
     "output_type": "execute_result"
    }
   ],
   "source": [
    "r"
   ]
  },
  {
   "cell_type": "code",
   "execution_count": 39,
   "metadata": {
    "collapsed": true
   },
   "outputs": [],
   "source": [
    "\t\t\tmask = regions[{{nt},{ne},{},{}}]\n",
    "\t\t\tmask = torch.squeeze(mask)\n",
    "\n",
    "\t\t\tmask_indxs = torch.nonzero(mask)\n",
    "\t\t\tr = mask_indxs[{{},{1}}]\n",
    "\t\t\tc = mask_indxs[{{},{2}}]"
   ]
  },
  {
   "cell_type": "code",
   "execution_count": 40,
   "metadata": {
    "collapsed": false
   },
   "outputs": [
    {
     "data": {
      "text/plain": [
       " 22\n",
       " 23\n",
       "[torch.LongTensor of size 2x1]\n",
       "\n"
      ]
     },
     "execution_count": 40,
     "metadata": {},
     "output_type": "execute_result"
    }
   ],
   "source": [
    "r"
   ]
  },
  {
   "cell_type": "code",
   "execution_count": 46,
   "metadata": {
    "collapsed": false
   },
   "outputs": [
    {
     "data": {
      "text/plain": [
       "{\n",
       "  deserialize : function: 0x4106a990\n",
       "  cat : function: 0x41042ac0\n",
       "  cdata : function: 0x4121c320\n",
       "  newmetatable : function: 0x41075f00\n",
       "  atan2 : function: 0x41134548\n",
       "  log : function: 0x411341b0\n",
       "  zero : function: 0x410421d8\n",
       "  logNormal : function: 0x41044a48\n",
       "  sigmoid : function: 0x411344a8\n",
       "  getnumcores : function: 0x41075c40\n",
       "  cross : function: 0x410428e0\n",
       "  deserializeFromStorage : function: 0x41061ed0\n",
       "  inverse : function: 0x41044b88\n",
       "  updateerrorhandlers : function: 0x41075b28\n",
       "  isTypeOf : function: 0x410477b0\n",
       "  ByteStorage : table: 0x4120d8f8\n",
       "  prod : function: 0x410427f0\n",
       "  ger : function: 0x41042660\n",
       "  eq : function: 0x41042cf0\n",
       "  getnumthreads : function: 0x41075bf0\n",
       "  ByteTensor : table: 0x41131418\n",
       "  Timer : table: 0x41133310\n",
       "  addmv : function: 0x41042688\n",
       "  lerp : function: 0x41134520\n",
       "  match : function: 0x41042480\n",
       "  Allocator : table: 0x41047218\n",
       "  xcorr2 : function: 0x41042bd8\n",
       "  neg : function: 0x411344d0\n",
       "  histc : function: 0x411340c0\n",
       "  pstrf : function: 0x41044c28\n",
       "  bernoulli : function: 0x41042b38\n",
       "  MemoryFile : table: 0x411390e8\n",
       "  cremainder : function: 0x41042548\n",
       "  Storage : table: 0x41130698\n",
       "  ge : function: 0x41042cc8\n",
       "  kthvalue : function: 0x410429f8\n",
       "  geometric : function: 0x41042b10\n",
       "  sin : function: 0x411342a0\n",
       "  topk : function: 0x410429d0\n",
       "  baddbmm : function: 0x41042728\n",
       "  fill : function: 0x41042200\n",
       "  linspace : function: 0x41134160\n",
       "  sum : function: 0x410427c8\n",
       "  numel : function: 0x41042750\n",
       "  orgqr : function: 0x41044ca0\n",
       "  test : function: 0x40e6e0d8\n",
       "  cmul : function: 0x410424a8\n",
       "  getconstructortable : function: 0x41075c90\n",
       "  version : function: 0x410628a8\n",
       "  fmod : function: 0x410423e0\n",
       "  FloatTensor : table: 0x41137320\n",
       "  mean : function: 0x41134048\n",
       "  isTensor : function: 0x40e6e140\n",
       "  ShortStorage : table: 0x41228d08\n",
       "  cmin : function: 0x41042868\n",
       "  addcdiv : function: 0x410425c0\n",
       "  mm : function: 0x41042610\n",
       "  Tester : table: 0x41222228\n",
       "  xcorr3 : function: 0x41042c28\n",
       "  ShortTensor : table: 0x411339e8\n",
       "  lt : function: 0x41042c50\n",
       "  triu : function: 0x41042a98\n",
       "  repeatTensor : function: 0x4106a968\n",
       "  data : function: 0x4121c2e0\n",
       "  CmdLine : table: 0x41063b68\n",
       "  eye : function: 0x41042930\n",
       "  loadobj : function: 0x40f5ad30\n",
       "  mul : function: 0x41042390\n",
       "  sqrt : function: 0x41134390\n",
       "  LongTensor : table: 0x41136110\n",
       "  saveobj : function: 0x41212d58\n",
       "  trunc : function: 0x41134430\n",
       "  isequal : function: 0x41075e68\n",
       "  floor : function: 0x41134408\n",
       "  serialize : function: 0x410639c0\n",
       "  load : function: 0x40f5ad30\n",
       "  save : function: 0x41212d58\n",
       "  permute : function: 0x41047a90\n",
       "  totable : function: 0x40e6e120\n",
       "  csub : function: 0x41042368\n",
       "  gesv : function: 0x41044a98\n",
       "  PipeFile : table: 0x41136c90\n",
       "  LongStorage : table: 0x4122a830\n",
       "  chunk : function: 0x4104fd70\n",
       "  split : function: 0x41069620\n",
       "  Tensor : table: 0x41138500\n",
       "  diag : function: 0x41042908\n",
       "  std : function: 0x41134098\n",
       "  viewAs : function: 0x410508b0\n",
       "  view : function: 0x41061ef8\n",
       "  conv3 : function: 0x41042c00\n",
       "  expandAs : function: 0x41225d20\n",
       "  File : table: 0x41068238\n",
       "  expand : function: 0x41075760\n",
       "  uniform : function: 0x410449d0\n",
       "  all : function: 0x41133fd0\n",
       "  renorm : function: 0x41134110\n",
       "  rsqrt : function: 0x41134480\n",
       "  typename : function: 0x41075e40\n",
       "  scatter : function: 0x410422c8\n",
       "  setdefaulttensortype : function: 0x41047770\n",
       "  addbmm : function: 0x41042700\n",
       "  class : function: 0x41047750\n",
       "  symeig : function: 0x41044b10\n",
       "  remainder : function: 0x41042408\n",
       "  clamp : function: 0x41042458\n",
       "  getmetatable : function: 0x41075f50\n",
       "  packageLuaPath : function: 0x41047268\n",
       "  updatethreadlocals : function: 0x41047318\n",
       "  metatype : function: 0x41075f78\n",
       "  setRNGState : function: 0x41045038\n",
       "  getRNGState : function: 0x41044f30\n",
       "  manualSeed : function: 0x41044ee0\n",
       "  initialSeed : function: 0x41044e90\n",
       "  zeros : function: 0x41042228\n",
       "  median : function: 0x41042a48\n",
       "  cosh : function: 0x41134278\n",
       "  pushudata : function: 0x410762d0\n",
       "  geqrf : function: 0x41044c78\n",
       "  _gen : torch.Generator\n",
       "  Generator : table: 0x41045350\n",
       "  ormqr : function: 0x41044cc8\n",
       "  FloatStorage : table: 0x41066698\n",
       "  seed : function: 0x41045418\n",
       "  qr : function: 0x41044c50\n",
       "  reshape : function: 0x41042278\n",
       "  pot"
      ]
     },
     "execution_count": 46,
     "metadata": {},
     "output_type": "execute_result"
    },
    {
     "data": {
      "text/plain": [
       "rs : function: 0x41044bd8\n",
       "  cpow : function: 0x410424d0\n",
       "  abs : function: 0x41134020\n",
       "  dist : function: 0x41134138\n",
       "  svd : function: 0x41044b60\n",
       "  mod : function: 0x41042430\n",
       "  eig : function: 0x41044b38\n",
       "  IntTensor : table: 0x41134f00\n",
       "  cdiv : function: 0x410424f8\n",
       "  pow : function: 0x41134570\n",
       "  gt : function: 0x41042c78\n",
       "  randperm : function: 0x41042980\n",
       "  include : function: 0x41047730\n",
       "  exponential : function: 0x41044a70\n",
       "  atan : function: 0x41134340\n",
       "  nonzero : function: 0x41042d40\n",
       "  normal : function: 0x410449f8\n",
       "  multinomial : function: 0x410449a8\n",
       "  randn : function: 0x41044980\n",
       "  any : function: 0x41133ff8\n",
       "  equal : function: 0x41042318\n",
       "  dot : function: 0x410422f0\n",
       "  range : function: 0x41042958\n",
       "  rand : function: 0x41134598\n",
       "  addr : function: 0x410426d8\n",
       "  trtrs : function: 0x41044ae8\n",
       "  cinv : function: 0x411344f8\n",
       "  tan : function: 0x41134318\n",
       "  frac : function: 0x41134458\n",
       "  serializeToStorage : function: 0x41069cc8\n",
       "  ceil : function: 0x411343e0\n",
       "  squeeze : function: 0x41042b60\n",
       "  var : function: 0x41134070\n",
       "  tanh : function: 0x41134368\n",
       "  setmetatable : function: 0x41075f28\n",
       "  cumsum : function: 0x41042778\n",
       "  cauchy : function: 0x41044a20\n",
       "  ne : function: 0x41042d18\n",
       "  sinh : function: 0x411342f0\n",
       "  cos : function: 0x41134228\n",
       "  potrf : function: 0x41044bb0\n",
       "  DoubleStorage : table: 0x41130698\n",
       "  CharStorage : table: 0x41227f38\n",
       "  asin : function: 0x411342c8\n",
       "  exp : function: 0x41134200\n",
       "  log1p : function: 0x411341d8\n",
       "  pointer : function: 0x410628d0\n",
       "  addcmul : function: 0x41042598\n",
       "  add : function: 0x41042340\n",
       "  type : function: 0x41047790\n",
       "  sign : function: 0x41042b88\n",
       "  div : function: 0x410423b8\n",
       "  mode : function: 0x41042a20\n",
       "  toc : function: 0x41062930\n",
       "  norm : function: 0x411340e8\n",
       "  gather : function: 0x410422a0\n",
       "  tic : function: 0x41062880\n",
       "  gels : function: 0x41044ac0\n",
       "  mv : function: 0x410425e8\n",
       "  getdefaulttensortype : function: 0x41214c48\n",
       "  isStorage : function: 0x40e6e160\n",
       "  logspace : function: 0x41134188\n",
       "  factory : function: 0x41075c68\n",
       "  CharTensor : table: 0x411327d8\n",
       "  setnumthreads : function: 0x41214c70\n",
       "  IntStorage : table: 0x41229ab0\n",
       "  TestSuite : function: 0x41f1dba8\n",
       "  cumprod : function: 0x410427a0\n",
       "  potri : function: 0x41044c00\n",
       "  le : function: 0x41042ca0\n",
       "  setenv : function: 0x41075ed8\n",
       "  tril : function: 0x41042a70\n",
       "  getenv : function: 0x41075e90\n",
       "  acos : function: 0x41134250\n",
       "  addmm : function: 0x410426b0\n",
       "  isatty : function: 0x41214ca8\n",
       "  min : function: 0x41042818\n",
       "  max : function: 0x41042840\n",
       "  cmax : function: 0x41042890\n",
       "  DoubleTensor : table: 0x41138500\n",
       "  sort : function: 0x410429a8\n",
       "  trace : function: 0x410428b8\n",
       "  ones : function: 0x41042250\n",
       "  cfmod : function: 0x41042520\n",
       "  round : function: 0x411343b8\n",
       "  bmm : function: 0x41042638\n",
       "  DiskFile : table: 0x41135a30\n",
       "  conv2 : function: 0x41042bb0\n",
       "  setheaptracking : function: 0x41075b00\n",
       "  cmod : function: 0x41042570\n",
       "  random : function: 0x41042ae8\n",
       "}\n"
      ]
     },
     "execution_count": 46,
     "metadata": {},
     "output_type": "execute_result"
    }
   ],
   "source": [
    "require 'torch'"
   ]
  },
  {
   "cell_type": "code",
   "execution_count": 42,
   "metadata": {
    "collapsed": false
   },
   "outputs": [
    {
     "ename": "[string \"local f = function() return math.mean(r) end;...\"]:1: attempt to call field 'mean' (a nil value)\nstack traceback:\n\t[string \"local f = function() return math.mean(r) end;...\"]:1: in function 'f'\n\t[string \"local f = function() return math.mean(r) end;...\"]:1: in main chunk\n\t[C]: in function 'xpcall'\n\t/home/arturo/torch/install/share/lua/5.1/itorch/main.lua:209: in function </home/arturo/torch/install/share/lua/5.1/itorch/main.lua:173>\n\t/home/arturo/torch/install/share/lua/5.1/lzmq/poller.lua:75: in function 'poll'\n\t/home/arturo/torch/install/share/lua/5.1/lzmq/impl/loop.lua:307: in function 'poll'\n\t/home/arturo/torch/install/share/lua/5.1/lzmq/impl/loop.lua:325: in function 'sleep_ex'\n\t/home/arturo/torch/install/share/lua/5.1/lzmq/impl/loop.lua:370: in function 'start'\n\t/home/arturo/torch/install/share/lua/5.1/itorch/main.lua:381: in main chunk\n\t[C]: in function 'require'\n\t(command line):1: in main chunk\n\t[C]: at 0x00406670",
     "evalue": "",
     "output_type": "error",
     "traceback": [
      "[string \"local f = function() return math.mean(r) end;...\"]:1: attempt to call field 'mean' (a nil value)\nstack traceback:\n\t[string \"local f = function() return math.mean(r) end;...\"]:1: in function 'f'\n\t[string \"local f = function() return math.mean(r) end;...\"]:1: in main chunk\n\t[C]: in function 'xpcall'\n\t/home/arturo/torch/install/share/lua/5.1/itorch/main.lua:209: in function </home/arturo/torch/install/share/lua/5.1/itorch/main.lua:173>\n\t/home/arturo/torch/install/share/lua/5.1/lzmq/poller.lua:75: in function 'poll'\n\t/home/arturo/torch/install/share/lua/5.1/lzmq/impl/loop.lua:307: in function 'poll'\n\t/home/arturo/torch/install/share/lua/5.1/lzmq/impl/loop.lua:325: in function 'sleep_ex'\n\t/home/arturo/torch/install/share/lua/5.1/lzmq/impl/loop.lua:370: in function 'start'\n\t/home/arturo/torch/install/share/lua/5.1/itorch/main.lua:381: in main chunk\n\t[C]: in function 'require'\n\t(command line):1: in main chunk\n\t[C]: at 0x00406670"
     ]
    }
   ],
   "source": [
    "math.mean(r)"
   ]
  },
  {
   "cell_type": "code",
   "execution_count": 43,
   "metadata": {
    "collapsed": false
   },
   "outputs": [
    {
     "data": {
      "text/plain": [
       "{\n",
       "  tan : function: builtin#46\n",
       "  tanh : function: builtin#52\n",
       "  sin : function: builtin#44\n",
       "  atan2 : function: builtin#56\n",
       "  atan : function: builtin#49\n",
       "  abs : function: builtin#38\n",
       "  sinh : function: builtin#50\n",
       "  randomseed : function: builtin#63\n",
       "  random : function: builtin#62\n",
       "  sqrt : function: builtin#41\n",
       "  huge : inf\n",
       "  pi : 3.1415926535898\n",
       "  acos : function: builtin#48\n",
       "  max : function: builtin#61\n",
       "  floor : function: builtin#39\n",
       "  min : function: builtin#60\n",
       "  ldexp : function: builtin#59\n",
       "  fmod : function: builtin#58\n",
       "  pow : function: builtin#57\n",
       "  modf : function: builtin#54\n",
       "  frexp : function: builtin#53\n",
       "  rad : function: 0x40f41970\n",
       "  cos : function: builtin#45\n",
       "  deg : function: 0x40f418d0\n",
       "  log : function: builtin#55\n",
       "  cosh : function: builtin#51\n",
       "  asin : function: builtin#47\n",
       "  exp : function: builtin#43\n",
       "  log10 : function: builtin#42\n",
       "  ceil : function: builtin#40\n",
       "}\n"
      ]
     },
     "execution_count": 43,
     "metadata": {},
     "output_type": "execute_result"
    }
   ],
   "source": [
    "require 'math'"
   ]
  },
  {
   "cell_type": "code",
   "execution_count": 50,
   "metadata": {
    "collapsed": false
   },
   "outputs": [],
   "source": [
    "X = torch.mean(r:double())"
   ]
  },
  {
   "cell_type": "code",
   "execution_count": 49,
   "metadata": {
    "collapsed": false
   },
   "outputs": [
    {
     "data": {
      "text/plain": [
       "torch.LongTensor\t\n"
      ]
     },
     "execution_count": 49,
     "metadata": {},
     "output_type": "execute_result"
    }
   ],
   "source": [
    "r:type()"
   ]
  },
  {
   "cell_type": "code",
   "execution_count": 51,
   "metadata": {
    "collapsed": false
   },
   "outputs": [
    {
     "data": {
      "text/plain": [
       "22.5\t\n"
      ]
     },
     "execution_count": 51,
     "metadata": {},
     "output_type": "execute_result"
    }
   ],
   "source": [
    "X"
   ]
  },
  {
   "cell_type": "code",
   "execution_count": 52,
   "metadata": {
    "collapsed": false
   },
   "outputs": [
    {
     "ename": "[string \"...\"]:11: unexpected symbol near '['",
     "evalue": "",
     "output_type": "error",
     "traceback": [
      "[string \"...\"]:11: unexpected symbol near '['"
     ]
    }
   ],
   "source": [
    "\tfor nt=1,N_theta do\n",
    "\t\tfor ne=1,N_e do\n",
    "\t\t\t\n",
    "\t\t\tmask = regions[{{nt},{ne},{},{}}]\n",
    "\t\t\tmask = torch.squeeze(mask)\n",
    "\n",
    "\t\t\tmask_indxs = torch.nonzero(mask)\n",
    "\t\t\tr = mask_indxs[{{},{1}}]\n",
    "\t\t\tc = mask_indxs[{{},{2}}]\n",
    "\n",
    "\t\t\tcenters[{{},{nt},{ne}}] = [torch.mean(r:double()) torch.mean(c:double())]\n",
    "\t\t\tareas[{{nt},{ne}}] = r:size(1)\n",
    "\n",
    "\t\tend\n",
    "\tend"
   ]
  },
  {
   "cell_type": "code",
   "execution_count": 53,
   "metadata": {
    "collapsed": false
   },
   "outputs": [
    {
     "ename": "[string \"...\"]:12: attempt to index global 'centers' (a nil value)\nstack traceback:\n\t[string \"...\"]:12: in main chunk\n\t[C]: in function 'xpcall'\n\t/home/arturo/torch/install/share/lua/5.1/itorch/main.lua:209: in function </home/arturo/torch/install/share/lua/5.1/itorch/main.lua:173>\n\t/home/arturo/torch/install/share/lua/5.1/lzmq/poller.lua:75: in function 'poll'\n\t/home/arturo/torch/install/share/lua/5.1/lzmq/impl/loop.lua:307: in function 'poll'\n\t/home/arturo/torch/install/share/lua/5.1/lzmq/impl/loop.lua:325: in function 'sleep_ex'\n\t/home/arturo/torch/install/share/lua/5.1/lzmq/impl/loop.lua:370: in function 'start'\n\t/home/arturo/torch/install/share/lua/5.1/itorch/main.lua:381: in main chunk\n\t[C]: in function 'require'\n\t(command line):1: in main chunk\n\t[C]: at 0x00406670",
     "evalue": "",
     "output_type": "error",
     "traceback": [
      "[string \"...\"]:12: attempt to index global 'centers' (a nil value)\nstack traceback:\n\t[string \"...\"]:12: in main chunk\n\t[C]: in function 'xpcall'\n\t/home/arturo/torch/install/share/lua/5.1/itorch/main.lua:209: in function </home/arturo/torch/install/share/lua/5.1/itorch/main.lua:173>\n\t/home/arturo/torch/install/share/lua/5.1/lzmq/poller.lua:75: in function 'poll'\n\t/home/arturo/torch/install/share/lua/5.1/lzmq/impl/loop.lua:307: in function 'poll'\n\t/home/arturo/torch/install/share/lua/5.1/lzmq/impl/loop.lua:325: in function 'sleep_ex'\n\t/home/arturo/torch/install/share/lua/5.1/lzmq/impl/loop.lua:370: in function 'start'\n\t/home/arturo/torch/install/share/lua/5.1/itorch/main.lua:381: in main chunk\n\t[C]: in function 'require'\n\t(command line):1: in main chunk\n\t[C]: at 0x00406670"
     ]
    }
   ],
   "source": [
    "\t-- Double Check this:\n",
    "\tfor nt=1,N_theta do\n",
    "\t\tfor ne=1,N_e do\n",
    "\t\t\t\n",
    "\t\t\tmask = regions[{{nt},{ne},{},{}}]\n",
    "\t\t\tmask = torch.squeeze(mask)\n",
    "\n",
    "\t\t\tmask_indxs = torch.nonzero(mask)\n",
    "\t\t\tr = mask_indxs[{{},{1}}]\n",
    "\t\t\tc = mask_indxs[{{},{2}}]\n",
    "\n",
    "\t\t\tcenters[{{1},{nt},{ne}}] = torch.mean(r:double())\n",
    "\t\t\tcenters[{{2},{nt},{ne}}] = torch.mean(c:double())\n",
    "\n",
    "\t\t\tareas[{{nt},{ne}}] = r:size(1)\n",
    "\n",
    "\t\tend\n",
    "\tend"
   ]
  },
  {
   "cell_type": "code",
   "execution_count": 54,
   "metadata": {
    "collapsed": false
   },
   "outputs": [
    {
     "data": {
      "text/plain": [
       "\n"
      ]
     },
     "execution_count": 54,
     "metadata": {},
     "output_type": "execute_result"
    }
   ],
   "source": [
    "centers\n"
   ]
  },
  {
   "cell_type": "code",
   "execution_count": 55,
   "metadata": {
    "collapsed": true
   },
   "outputs": [],
   "source": [
    "\tcenters = torch.zeros(2,N_theta,N_e)"
   ]
  },
  {
   "cell_type": "code",
   "execution_count": 56,
   "metadata": {
    "collapsed": false
   },
   "outputs": [
    {
     "data": {
      "text/plain": [
       "  2\n",
       " 25\n",
       "  8\n",
       "[torch.LongStorage of size 3]\n",
       "\n"
      ]
     },
     "execution_count": 56,
     "metadata": {},
     "output_type": "execute_result"
    }
   ],
   "source": [
    "centers:size()"
   ]
  },
  {
   "cell_type": "code",
   "execution_count": 57,
   "metadata": {
    "collapsed": true
   },
   "outputs": [],
   "source": [
    "\tareas = torch.zeros(N_theta,N_e)"
   ]
  },
  {
   "cell_type": "code",
   "execution_count": 58,
   "metadata": {
    "collapsed": true
   },
   "outputs": [],
   "source": [
    "\t-- Double Check this:\n",
    "\tfor nt=1,N_theta do\n",
    "\t\tfor ne=1,N_e do\n",
    "\t\t\t\n",
    "\t\t\tmask = regions[{{nt},{ne},{},{}}]\n",
    "\t\t\tmask = torch.squeeze(mask)\n",
    "\n",
    "\t\t\tmask_indxs = torch.nonzero(mask)\n",
    "\t\t\tr = mask_indxs[{{},{1}}]\n",
    "\t\t\tc = mask_indxs[{{},{2}}]\n",
    "\n",
    "\t\t\tcenters[{{1},{nt},{ne}}] = torch.mean(r:double())\n",
    "\t\t\tcenters[{{2},{nt},{ne}}] = torch.mean(c:double())\n",
    "\n",
    "\t\t\tareas[{{nt},{ne}}] = r:size(1)\n",
    "\n",
    "\t\tend\n",
    "\tend"
   ]
  },
  {
   "cell_type": "code",
   "execution_count": 1,
   "metadata": {
    "collapsed": false
   },
   "outputs": [
    {
     "ename": "[string \"...\"]:5: '}' expected (to close '{' at line 1) near 'offsets_r'",
     "evalue": "",
     "output_type": "error",
     "traceback": [
      "[string \"...\"]:5: '}' expected (to close '{' at line 1) near 'offsets_r'"
     ]
    }
   ],
   "source": [
    "\tFilters = { regions = torch.Tensor(N_theta,N_e,visual_field_width,visual_field_width),\n",
    "\tcenters = torch.Tensor(2,N_theta,N_e),\n",
    "\tareas = torch.Tensor(N_theta,N_e)\n",
    "\n",
    "\toffsets_r = {}\n",
    "\toffsets_c = {}\n",
    "\tweights = {}\n",
    "\tuniq_pix = {}\n",
    "\n",
    "\tfor i=1,N_theta do\n",
    "\t\toffsets_r[i] = {}\n",
    "\t\toffsets_c[i] = {}\n",
    "\t\tweights[i] = {}\n",
    "\t\tuniq_px[i] = {}\n",
    "\t\tfor j=1,N_e do\n",
    "\t\t\toffsets_r[i][j] = torch.Tensor()\n",
    "\t\t\toffsets_c[i][j] = torch.Tensor()\n",
    "\t\t\tweights[i][j] = torch.Tensor()\n",
    "\t\t\tuniq_px[i][j] = torch.Tensor()\n",
    "\t\tend\n",
    "\tend\n",
    "\t}"
   ]
  },
  {
   "cell_type": "code",
   "execution_count": 2,
   "metadata": {
    "collapsed": false
   },
   "outputs": [
    {
     "ename": "[string \"...\"]:9: unexpected symbol near 'for'",
     "evalue": "",
     "output_type": "error",
     "traceback": [
      "[string \"...\"]:9: unexpected symbol near 'for'"
     ]
    }
   ],
   "source": [
    "\tFilters = { regions = torch.Tensor(N_theta,N_e,visual_field_width,visual_field_width),\n",
    "\tcenters = torch.Tensor(2,N_theta,N_e),\n",
    "\tareas = torch.Tensor(N_theta,N_e),\n",
    "\toffsets_r = {},\n",
    "\toffsets_c = {},\n",
    "\tweights = {},\n",
    "\tuniq_pix = {},\n",
    "\n",
    "\tfor i=1,N_theta do\n",
    "\t\toffsets_r[i] = {}\n",
    "\t\toffsets_c[i] = {}\n",
    "\t\tweights[i] = {}\n",
    "\t\tuniq_px[i] = {}\n",
    "\t\tfor j=1,N_e do\n",
    "\t\t\toffsets_r[i][j] = torch.Tensor()\n",
    "\t\t\toffsets_c[i][j] = torch.Tensor()\n",
    "\t\t\tweights[i][j] = torch.Tensor()\n",
    "\t\t\tuniq_px[i][j] = torch.Tensor()\n",
    "\t\tend\n",
    "\tend\n",
    "\t}"
   ]
  },
  {
   "cell_type": "code",
   "execution_count": 3,
   "metadata": {
    "collapsed": true
   },
   "outputs": [],
   "source": [
    "\tFilters = { regions = torch.Tensor(N_theta,N_e,visual_field_width,visual_field_width),\n",
    "\tcenters = torch.Tensor(2,N_theta,N_e),\n",
    "\tareas = torch.Tensor(N_theta,N_e),\n",
    "\toffsets_r = {},\n",
    "\toffsets_c = {},\n",
    "\tweights = {},\n",
    "\tuniq_pix = {},\n",
    "\t}"
   ]
  },
  {
   "cell_type": "code",
   "execution_count": 4,
   "metadata": {
    "collapsed": true
   },
   "outputs": [],
   "source": [
    "filters = Filters"
   ]
  },
  {
   "cell_type": "code",
   "execution_count": 5,
   "metadata": {
    "collapsed": false
   },
   "outputs": [
    {
     "data": {
      "text/plain": [
       "{\n",
       "  centers : DoubleTensor - size: 2x25x8\n",
       "  offsets_r : table: 0x4006cc58\n",
       "  uniq_pix : table: 0x4006ccd0\n",
       "  offsets_c : table: 0x4006cc80\n",
       "  weights : table: 0x4006cca8\n",
       "  areas : DoubleTensor - size: 25x8\n",
       "  regions : DoubleTensor - size: 25x8x477x477\n",
       "}\n"
      ]
     },
     "execution_count": 5,
     "metadata": {},
     "output_type": "execute_result"
    }
   ],
   "source": [
    "filters\n"
   ]
  },
  {
   "cell_type": "code",
   "execution_count": 6,
   "metadata": {
    "collapsed": false
   },
   "outputs": [
    {
     "ename": "[string \"...\"]:5: attempt to index field 'uniq_px' (a nil value)\nstack traceback:\n\t[string \"...\"]:5: in main chunk\n\t[C]: in function 'xpcall'\n\t/home/arturo/torch/install/share/lua/5.1/itorch/main.lua:209: in function </home/arturo/torch/install/share/lua/5.1/itorch/main.lua:173>\n\t/home/arturo/torch/install/share/lua/5.1/lzmq/poller.lua:75: in function 'poll'\n\t/home/arturo/torch/install/share/lua/5.1/lzmq/impl/loop.lua:307: in function 'poll'\n\t/home/arturo/torch/install/share/lua/5.1/lzmq/impl/loop.lua:325: in function 'sleep_ex'\n\t/home/arturo/torch/install/share/lua/5.1/lzmq/impl/loop.lua:370: in function 'start'\n\t/home/arturo/torch/install/share/lua/5.1/itorch/main.lua:381: in main chunk\n\t[C]: in function 'require'\n\t(command line):1: in main chunk\n\t[C]: at 0x00406670",
     "evalue": "",
     "output_type": "error",
     "traceback": [
      "[string \"...\"]:5: attempt to index field 'uniq_px' (a nil value)\nstack traceback:\n\t[string \"...\"]:5: in main chunk\n\t[C]: in function 'xpcall'\n\t/home/arturo/torch/install/share/lua/5.1/itorch/main.lua:209: in function </home/arturo/torch/install/share/lua/5.1/itorch/main.lua:173>\n\t/home/arturo/torch/install/share/lua/5.1/lzmq/poller.lua:75: in function 'poll'\n\t/home/arturo/torch/install/share/lua/5.1/lzmq/impl/loop.lua:307: in function 'poll'\n\t/home/arturo/torch/install/share/lua/5.1/lzmq/impl/loop.lua:325: in function 'sleep_ex'\n\t/home/arturo/torch/install/share/lua/5.1/lzmq/impl/loop.lua:370: in function 'start'\n\t/home/arturo/torch/install/share/lua/5.1/itorch/main.lua:381: in main chunk\n\t[C]: in function 'require'\n\t(command line):1: in main chunk\n\t[C]: at 0x00406670"
     ]
    }
   ],
   "source": [
    "\tfor i=1,N_theta do\n",
    "\t\tfilters.offsets_r[i] = {}\n",
    "\t\tfilters.offsets_c[i] = {}\n",
    "\t\tfilters.weights[i] = {}\n",
    "\t\tfilters.uniq_px[i] = {}\n",
    "\t\tfor j=1,N_e do\n",
    "\t\t\tfilters.offsets_r[i][j] = torch.Tensor()\n",
    "\t\t\tfilters.offsets_c[i][j] = torch.Tensor()\n",
    "\t\t\tfilters.weights[i][j] = torch.Tensor()\n",
    "\t\t\tfilters.uniq_px[i][j] = torch.Tensor()\n",
    "\t\tend\n",
    "\tend"
   ]
  },
  {
   "cell_type": "code",
   "execution_count": 7,
   "metadata": {
    "collapsed": true
   },
   "outputs": [],
   "source": [
    "\tfilters = Filters\n",
    "\n",
    "\tfor i=1,N_theta do\n",
    "\t\tfilters.offsets_r[i] = {}\n",
    "\t\tfilters.offsets_c[i] = {}\n",
    "\t\tfilters.weights[i] = {}\n",
    "\t\tfilters.uniq_pix[i] = {}\n",
    "\t\tfor j=1,N_e do\n",
    "\t\t\tfilters.offsets_r[i][j] = torch.Tensor()\n",
    "\t\t\tfilters.offsets_c[i][j] = torch.Tensor()\n",
    "\t\t\tfilters.weights[i][j] = torch.Tensor()\n",
    "\t\t\tfilters.uniq_pix[i][j] = torch.Tensor()\n",
    "\t\tend\n",
    "\tend"
   ]
  },
  {
   "cell_type": "code",
   "execution_count": 8,
   "metadata": {
    "collapsed": false
   },
   "outputs": [
    {
     "data": {
      "text/plain": [
       "{\n",
       "  centers : DoubleTensor - size: 2x25x8\n",
       "  offsets_r : \n",
       "    {\n",
       "      1 : \n",
       "        {\n",
       "          1 : DoubleTensor - empty\n",
       "          2 : DoubleTensor - empty\n",
       "          3 : DoubleTensor - empty\n",
       "          4 : DoubleTensor - empty\n",
       "          5 : DoubleTensor - empty\n",
       "          6 : DoubleTensor - empty\n",
       "          7 : DoubleTensor - empty\n",
       "          8 : DoubleTensor - empty\n",
       "        }\n",
       "      2 : \n",
       "        {\n",
       "          1 : DoubleTensor - empty\n",
       "          2 : DoubleTensor - empty\n",
       "          3 : DoubleTensor - empty\n",
       "          4 : DoubleTensor - empty\n",
       " "
      ]
     },
     "execution_count": 8,
     "metadata": {},
     "output_type": "execute_result"
    },
    {
     "data": {
      "text/plain": [
       "         5 : DoubleTensor - empty\n",
       "          6 : DoubleTensor - empty\n",
       "          7 : DoubleTensor - empty\n",
       "          8 : DoubleTensor - empty\n",
       "        }\n",
       "      3 : \n",
       "        {\n",
       "          1 : DoubleTensor - empty\n",
       "          2 : DoubleTensor - empty\n",
       "          3 : DoubleTensor - empty\n",
       "          4 : DoubleTensor - empty\n",
       "          5 : DoubleTensor - empty\n",
       "          6 : DoubleTensor - empty\n",
       "          7 : DoubleTensor - empty\n",
       "          8 : DoubleTensor - empty\n",
       "        }\n",
       "      4 : \n",
       "        {\n",
       "          1 : DoubleTensor - empty\n",
       "          2 : DoubleTensor - empty\n",
       "          3 : DoubleTensor - empty\n",
       "          4 : DoubleTensor - empty\n",
       "          5 : DoubleTensor - empty\n",
       "          6 : DoubleTensor - empty\n",
       "          7 : DoubleTensor - empty\n",
       "          8 : DoubleTensor - empty\n",
       "        }\n",
       "      5 : \n",
       "        {\n",
       "  "
      ]
     },
     "execution_count": 8,
     "metadata": {},
     "output_type": "execute_result"
    },
    {
     "data": {
      "text/plain": [
       "        1 : DoubleTensor - empty\n",
       "          2 : DoubleTensor - empty\n",
       "          3 : DoubleTensor - empty\n",
       "          4 : DoubleTensor - empty\n",
       "          5 : DoubleTensor - empty\n",
       "          6 : DoubleTensor - empty\n",
       "          7 : DoubleTensor - empty\n",
       "          8 : DoubleTensor - empty\n",
       "        }\n",
       "      6 : \n",
       "        {\n",
       "          1 : DoubleTensor - empty\n",
       "          2 : DoubleTensor - empty\n",
       "          3 : DoubleTensor - empty\n",
       "          4 : DoubleTensor - empty\n",
       "          5 : DoubleTensor - empty\n",
       "          6 : DoubleTensor - empty\n",
       "          7 : DoubleTensor - empty\n",
       "          8 : DoubleTensor - empty\n",
       "        }\n",
       "      7 : \n",
       "        {\n",
       "          1 : DoubleTensor - empty\n",
       "          2 : DoubleTensor - empty\n",
       "          3 : DoubleTensor - empty\n",
       "          4 : DoubleTensor - empty\n",
       "          5 : DoubleTensor - empty\n",
       "          6 : DoubleTensor - empty\n",
       "   "
      ]
     },
     "execution_count": 8,
     "metadata": {},
     "output_type": "execute_result"
    },
    {
     "data": {
      "text/plain": [
       "       7 : DoubleTensor - empty\n",
       "          8 : DoubleTensor - empty\n",
       "        }\n",
       "      8 : \n",
       "        {\n",
       "          1 : DoubleTensor - empty\n",
       "          2 : DoubleTensor - empty\n",
       "          3 : DoubleTensor - empty\n",
       "          4 : DoubleTensor - empty\n",
       "          5 : DoubleTensor - empty\n",
       "          6 : DoubleTensor - empty\n",
       "          7 : DoubleTensor - empty\n",
       "          8 : DoubleTensor - empty\n",
       "        }\n",
       "      9 : \n",
       "        {\n",
       "          1 : DoubleTensor - empty\n",
       "          2 : DoubleTensor - empty\n",
       "          3 : DoubleTensor - empty\n",
       "          4 : DoubleTensor - empty\n",
       "          5 : DoubleTensor - empty\n",
       "          6 : DoubleTensor - empty\n",
       "          7 : DoubleTensor - empty\n",
       "          8 : DoubleTensor - empty\n",
       "        }\n",
       "      10 : \n",
       "        {\n",
       "          1 : DoubleTensor - empty\n",
       "          2 : DoubleTensor - empty\n",
       "          3 : DoubleTensor - empty\n",
       "          4 : DoubleTensor - empty\n",
       "          5 : DoubleTensor - empty\n",
       "          6 : DoubleTensor - empty\n",
       "          7 : DoubleTensor - empty\n",
       "          8 : DoubleTensor - empty\n",
       "        "
      ]
     },
     "execution_count": 8,
     "metadata": {},
     "output_type": "execute_result"
    },
    {
     "data": {
      "text/plain": [
       "}\n",
       "      11 : \n",
       "        {\n",
       "          1 : DoubleTensor - empty\n",
       "          2 : DoubleTensor - empty\n",
       "          3 : DoubleTensor - empty\n",
       "          4 : DoubleTensor - empty\n",
       "          5 : DoubleTensor - empty\n",
       "          6 : DoubleTensor - empty\n",
       "          7 : DoubleTensor - empty\n",
       "          8 : DoubleTensor - empty\n",
       "        }\n",
       "      12 : \n",
       "        {\n",
       "          1 : DoubleTensor - empty\n",
       "          2 : DoubleTensor - empty\n",
       "          3 : DoubleTensor - empty\n",
       "          4 : DoubleTensor - empty\n",
       "          5 : DoubleTensor - empty\n",
       "          6 : DoubleTensor - empty\n",
       "          7 : DoubleTensor - empty\n",
       "          8 : DoubleTensor - empty\n",
       "        }\n",
       "      13 : \n",
       "        {\n",
       "          1 : DoubleTensor - empty\n",
       "          2 : DoubleTensor - empty\n",
       "          3 : DoubleTensor - empty\n",
       "          4 : DoubleTensor - empty\n",
       "          5 : DoubleTensor - empty\n",
       "          6 : DoubleTensor - empty\n",
       "          7 : DoubleTensor - empty\n",
       "          8 : DoubleTensor - empty\n",
       "        }\n",
       " "
      ]
     },
     "execution_count": 8,
     "metadata": {},
     "output_type": "execute_result"
    },
    {
     "data": {
      "text/plain": [
       "     14 : \n",
       "        {\n",
       "          1 : DoubleTensor - empty\n",
       "          2 : DoubleTensor - empty\n",
       "          3 : DoubleTensor - empty\n",
       "          4 : DoubleTensor - empty\n",
       "          5 : DoubleTensor - empty\n",
       "          6 : DoubleTensor - empty\n",
       "          7 : DoubleTensor - empty\n",
       "          8 : DoubleTensor - empty\n",
       "        }\n",
       "      15 : \n",
       "        {\n",
       "          1 : DoubleTensor - empty\n",
       "          2 : DoubleTensor - empty\n",
       "          3 : DoubleTensor - empty\n",
       "          4 : DoubleTensor - empty\n",
       "          5 : DoubleTensor - empty\n",
       "          6 : DoubleTensor - empty\n",
       "          7 : DoubleTensor - empty\n",
       "          8 : DoubleTensor - empty\n",
       "        }\n",
       "      16 : \n",
       "        {\n",
       "          1 : DoubleTensor - empty\n",
       "          2 : DoubleTensor - empty\n",
       "          3 : DoubleTensor - empty\n",
       "          4 : DoubleTensor - empty\n",
       "          5 : DoubleTensor - empty\n",
       "          6 : DoubleTensor - empty\n",
       "          7 : DoubleTensor - empty\n",
       "          8 : DoubleTensor - empty\n",
       "        }\n",
       "  "
      ]
     },
     "execution_count": 8,
     "metadata": {},
     "output_type": "execute_result"
    },
    {
     "data": {
      "text/plain": [
       "    17 : \n",
       "        {\n",
       "          1 : DoubleTensor - empty\n",
       "          2 : DoubleTensor - empty\n",
       "          3 : DoubleTensor - empty\n",
       "          4 : DoubleTensor - empty\n",
       "          5 : DoubleTensor - empty\n",
       "          6 : DoubleTensor - empty\n",
       "          7 : DoubleTensor - empty\n",
       "          8 : DoubleTensor - empty\n",
       "        }\n",
       "      18 : \n",
       "        {\n",
       "          1 : DoubleTensor - empty\n",
       "          2 : DoubleTensor - empty\n",
       "          3 : DoubleTensor - empty\n",
       "          4 : DoubleTensor - empty\n",
       "          5 : DoubleTensor - empty\n",
       "          6 : DoubleTensor - empty\n",
       "          7 : DoubleTensor - empty\n",
       "          8 : DoubleTensor - empty\n",
       "        }\n",
       "      19 : \n",
       "        {\n",
       "          1 : DoubleTensor - empty\n",
       "          2 : DoubleTensor - empty\n",
       "          3 : DoubleTensor - empty\n",
       "          4 : DoubleTensor - empty\n",
       "          5 : DoubleTensor - empty\n",
       "          6 : DoubleTensor - empty\n",
       "          7 : DoubleTensor - empty\n",
       "          8 : DoubleTensor - empty\n",
       "        }\n",
       "      20 : \n",
       "        {\n",
       "          1 : DoubleTensor - empty\n",
       "        "
      ]
     },
     "execution_count": 8,
     "metadata": {},
     "output_type": "execute_result"
    },
    {
     "data": {
      "text/plain": [
       "  2 : DoubleTensor - empty\n",
       "          3 : DoubleTensor - empty\n",
       "          4 : DoubleTensor - empty\n",
       "          5 : DoubleTensor - empty\n",
       "          6 : DoubleTensor - empty\n",
       "          7 : DoubleTensor - empty\n",
       "          8 : DoubleTensor - empty\n",
       "        }\n",
       "      21 : \n",
       "        {\n",
       "          1 : DoubleTensor - empty\n",
       "          2 : DoubleTensor - empty\n",
       "          3 : DoubleTensor - empty\n",
       "          4 : DoubleTensor - empty\n",
       "          5 : DoubleTensor - empty\n",
       "          6 : DoubleTensor - empty\n",
       "          7 : DoubleTensor - empty\n",
       "          8 : DoubleTensor - empty\n",
       "        }\n",
       "      22 : \n",
       "        {\n",
       "          1 : DoubleTensor - empty\n",
       "          2 : DoubleTensor - empty\n",
       "          3 : DoubleTensor - empty\n",
       "          4 : DoubleTensor - empty\n",
       "          5 : DoubleTensor - empty\n",
       "          6 : DoubleTensor - empty\n",
       "          7 : DoubleTensor - empty\n",
       "          8 : DoubleTensor - empty\n",
       "        }\n",
       "      23 : \n",
       "        {\n",
       "          1 : DoubleTensor - empty\n",
       "          2 : DoubleTensor - empty\n",
       "          3 : DoubleTensor - empty\n",
       "          4 : DoubleTensor - empty"
      ]
     },
     "execution_count": 8,
     "metadata": {},
     "output_type": "execute_result"
    },
    {
     "data": {
      "text/plain": [
       "\n",
       "          5 : DoubleTensor - empty\n",
       "          6 : DoubleTensor - empty\n",
       "          7 : DoubleTensor - empty\n",
       "          8 : DoubleTensor - empty\n",
       "        }\n",
       "      24 : \n",
       "        {\n",
       "          1 : DoubleTensor - empty\n",
       "          2 : DoubleTensor - empty\n",
       "          3 : DoubleTensor - empty\n",
       "          4 : DoubleTensor - empty\n",
       "          5 : DoubleTensor - empty\n",
       "          6 : DoubleTensor - empty\n",
       "          7 : DoubleTensor - empty\n",
       "          8 : DoubleTensor - empty\n",
       "        }\n",
       "      25 : \n",
       "        {\n",
       "          1 : DoubleTensor - empty\n",
       "          2 : DoubleTensor - empty\n",
       "          3 : DoubleTensor - empty\n",
       "          4 : DoubleTensor - empty\n",
       "          5 : DoubleTensor - empty\n",
       "          6 : DoubleTensor - empty\n",
       "          7 : DoubleTensor - empty\n",
       "          8 : DoubleTensor - empty\n",
       "        }\n",
       "    }\n",
       "  uniq_pix : \n",
       "    {\n",
       "      1 : \n",
       "        {\n",
       "          1 : DoubleTensor - empty\n",
       "          2 : DoubleTensor - empty\n",
       "          3 : DoubleTensor - empty\n",
       "          4 : DoubleTensor - empty\n",
       "          5 : DoubleTensor - empty\n",
       "         "
      ]
     },
     "execution_count": 8,
     "metadata": {},
     "output_type": "execute_result"
    },
    {
     "data": {
      "text/plain": [
       " 6 : DoubleTensor - empty\n",
       "          7 : DoubleTensor - empty\n",
       "          8 : DoubleTensor - empty\n",
       "        }\n",
       "      2 : \n",
       "        {\n",
       "          1 : DoubleTensor - empty\n",
       "          2 : DoubleTensor - empty\n",
       "          3 : DoubleTensor - empty\n",
       "          4 : DoubleTensor - empty\n",
       "          5 : DoubleTensor - empty\n",
       "          6 : DoubleTensor - empty\n",
       "          7 : DoubleTensor - empty\n",
       "          8 : DoubleTensor - empty\n",
       "        }\n",
       "      3 : \n",
       "        {\n",
       "          1 : DoubleTensor - empty\n",
       "          2 : DoubleTensor - empty\n",
       "          3 : DoubleTensor - empty\n",
       "          4 : DoubleTensor - empty\n",
       "          5 : DoubleTensor - empty\n",
       "          6 : DoubleTensor - empty\n",
       "          7 : DoubleTensor - empty\n",
       "          8 : DoubleTensor - empty\n",
       "        }\n",
       "      4 : \n",
       "        {\n",
       "          1 : DoubleTensor - empty\n",
       "          2 : DoubleTensor - empty\n",
       "          3 : DoubleTensor - empty\n",
       "          4 : DoubleTensor - empty\n",
       "          5 : DoubleTensor - empty\n",
       "          6 : DoubleTensor - empty\n",
       "          7 : DoubleTensor - empty\n",
       "          8 : DoubleTensor - empty\n",
       " "
      ]
     },
     "execution_count": 8,
     "metadata": {},
     "output_type": "execute_result"
    },
    {
     "data": {
      "text/plain": [
       "       }\n",
       "      5 : \n",
       "        {\n",
       "          1 : DoubleTensor - empty\n",
       "          2 : DoubleTensor - empty\n",
       "          3 : DoubleTensor - empty\n",
       "          4 : DoubleTensor - empty\n",
       "          5 : DoubleTensor - empty\n",
       "          6 : DoubleTensor - empty\n",
       "          7 : DoubleTensor - empty\n",
       "          8 : DoubleTensor - empty\n",
       "        }\n",
       "      6 : \n",
       "        {\n",
       "          1 : DoubleTensor - empty\n",
       "          2 : DoubleTensor - empty\n",
       "          3 : DoubleTensor - empty\n",
       "          4 : DoubleTensor - empty\n",
       "          5 : DoubleTensor - empty\n",
       "          6 : DoubleTensor - empty\n",
       "          7 : DoubleTensor - empty\n",
       "          8 : DoubleTensor - empty\n",
       "        }\n",
       "      7 : \n",
       "        {\n",
       "          1 : DoubleTensor - empty\n",
       "          2 : DoubleTensor - empty\n",
       "          3 : DoubleTensor - empty\n",
       "          4 : DoubleTensor - empty\n",
       "          5 : DoubleTensor - empty\n",
       "          6 : DoubleTensor - empty\n",
       "          7 : DoubleTensor - empty\n",
       "          8 : DoubleTensor - empty\n",
       "        }\n",
       "      8 : \n",
       "        {\n",
       "          1 : DoubleTensor - empty\n"
      ]
     },
     "execution_count": 8,
     "metadata": {},
     "output_type": "execute_result"
    },
    {
     "data": {
      "text/plain": [
       "          2 : DoubleTensor - empty\n",
       "          3 : DoubleTensor - empty\n",
       "          4 : DoubleTensor - empty\n",
       "          5 : DoubleTensor - empty\n",
       "          6 : DoubleTensor - empty\n",
       "          7 : DoubleTensor - empty\n",
       "          8 : DoubleTensor - empty\n",
       "        }\n",
       "      9 : \n",
       "        {\n",
       "          1 : DoubleTensor - empty\n",
       "          2 : DoubleTensor - empty\n",
       "          3 : DoubleTensor - empty\n",
       "          4 : DoubleTensor - empty\n",
       "          5 : DoubleTensor - empty\n",
       "          6 : DoubleTensor - empty\n",
       "          7 : DoubleTensor - empty\n",
       "          8 : DoubleTensor - empty\n",
       "        }\n",
       "      10 : \n",
       "        {\n",
       "          1 : DoubleTensor - empty\n",
       "          2 : DoubleTensor - empty\n",
       "          3 : DoubleTensor - empty\n",
       "          4 : DoubleTensor - empty\n",
       "          5 : DoubleTensor - empty\n",
       "          6 : DoubleTensor - empty\n",
       "          7 : DoubleTensor - empty\n",
       "          8 : DoubleTensor - empty\n",
       "        }\n",
       "      11 : \n",
       "        {\n",
       "          1 : DoubleTensor - empty\n",
       "          2 : DoubleTensor - empty\n",
       "          3 : DoubleTensor - empty\n",
       "          4 : DoubleTensor - empty\n",
       "          5 : DoubleTensor - empty\n",
       "   "
      ]
     },
     "execution_count": 8,
     "metadata": {},
     "output_type": "execute_result"
    },
    {
     "data": {
      "text/plain": [
       "       6 : DoubleTensor - empty\n",
       "          7 : DoubleTensor - empty\n",
       "          8 : DoubleTensor - empty\n",
       "        }\n",
       "      12 : \n",
       "        {\n",
       "          1 : DoubleTensor - empty\n",
       "          2 : DoubleTensor - empty\n",
       "          3 : DoubleTensor - empty\n",
       "          4 : DoubleTensor - empty\n",
       "          5 : DoubleTensor - empty\n",
       "          6 : DoubleTensor - empty\n",
       "          7 : DoubleTensor - empty\n",
       "          8 : DoubleTensor - empty\n",
       "        }\n",
       "      13 : \n",
       "        {\n",
       "          1 : DoubleTensor - empty\n",
       "          2 : DoubleTensor - empty\n",
       "          3 : DoubleTensor - empty\n",
       "          4 : DoubleTensor - empty\n",
       "          5 : DoubleTensor - empty\n",
       "          6 : DoubleTensor - empty\n",
       "          7 : DoubleTensor - empty\n",
       "          8 : DoubleTensor - empty\n",
       "        }\n",
       "      14 : \n",
       "        {\n",
       "          1 : DoubleTensor - empty\n",
       "          2 : DoubleTensor - empty\n",
       "          3 : DoubleTensor - empty\n",
       "          4 : DoubleTensor - empty\n",
       "          5 : DoubleTensor - empty\n",
       "          6 : DoubleTensor - empty\n",
       "          7 : DoubleTensor - empty\n",
       "          8 : DoubleTensor - empty\n",
       "        }\n",
       "      15 : \n",
       "        {\n",
       "         "
      ]
     },
     "execution_count": 8,
     "metadata": {},
     "output_type": "execute_result"
    },
    {
     "data": {
      "text/plain": [
       " 1 : DoubleTensor - empty\n",
       "          2 : DoubleTensor - empty\n",
       "          3 : DoubleTensor - empty\n",
       "          4 : DoubleTensor - empty\n",
       "          5 : DoubleTensor - empty\n",
       "          6 : DoubleTensor - empty\n",
       "          7 : DoubleTensor - empty\n",
       "          8 : DoubleTensor - empty\n",
       "        }\n",
       "      16 : \n",
       "        {\n",
       "          1 : DoubleTensor - empty\n",
       "          2 : DoubleTensor - empty\n",
       "          3 : DoubleTensor - empty\n",
       "          4 : DoubleTensor - empty\n",
       "          5 : DoubleTensor - empty\n",
       "          6 : DoubleTensor - empty\n",
       "          7 : DoubleTensor - empty\n",
       "          8 : DoubleTensor - empty\n",
       "        }\n",
       "      17 : \n",
       "        {\n",
       "          1 : DoubleTensor - empty\n",
       "          2 : DoubleTensor - empty\n",
       "          3 : DoubleTensor - empty\n",
       "          4 : DoubleTensor - empty\n",
       "          5 : DoubleTensor - empty\n",
       "          6 : DoubleTensor - empty\n",
       "          7 : DoubleTensor - empty\n",
       "          8 : DoubleTensor - empty\n",
       "        }\n",
       "      18 : \n",
       "        {\n",
       "          1 : DoubleTensor - empty\n",
       "          2 : DoubleTensor - empty\n",
       "          3 : DoubleTensor - empty\n",
       "          4 : DoubleTensor - empty\n",
       "          5 : DoubleTensor - empty\n",
       "  "
      ]
     },
     "execution_count": 8,
     "metadata": {},
     "output_type": "execute_result"
    },
    {
     "data": {
      "text/plain": [
       "        6 : DoubleTensor - empty\n",
       "          7 : DoubleTensor - empty\n",
       "          8 : DoubleTensor - empty\n",
       "        }\n",
       "      19 : \n",
       "        {\n",
       "          1 : DoubleTensor - empty\n",
       "          2 : DoubleTensor - empty\n",
       "          3 : DoubleTensor - empty\n",
       "          4 : DoubleTensor - empty\n",
       "          5 : DoubleTensor - empty\n",
       "          6 : DoubleTensor - empty\n",
       "          7 : DoubleTensor - empty\n",
       "          8 : DoubleTensor - empty\n",
       "        }\n",
       "      20 : \n",
       "        {\n",
       "          1 : DoubleTensor - empty\n",
       "          2 : DoubleTensor - empty\n",
       "          3 : DoubleTensor - empty\n",
       "          4 : DoubleTensor - empty\n",
       "          5 : DoubleTensor - empty\n",
       "          6 : DoubleTensor - empty\n",
       "          7 : DoubleTensor - empty\n",
       "          8 : DoubleTensor - empty\n",
       "        }\n",
       "      21 : \n",
       "        {\n",
       "          1 : DoubleTensor - empty\n",
       "          2 : DoubleTensor - empty\n",
       "          3 : DoubleTensor - empty\n",
       "          4 : DoubleTensor - empty\n",
       "          5 : DoubleTensor - empty\n",
       "          6 : DoubleTensor - empty\n",
       "          7 : DoubleTensor - empty\n",
       "          8 : DoubleTensor - empty\n",
       "        }\n",
       "      22 : \n",
       "     "
      ]
     },
     "execution_count": 8,
     "metadata": {},
     "output_type": "execute_result"
    },
    {
     "data": {
      "text/plain": [
       "   {\n",
       "          1 : DoubleTensor - empty\n",
       "          2 : DoubleTensor - empty\n",
       "          3 : DoubleTensor - empty\n",
       "          4 : DoubleTensor - empty\n",
       "          5 : DoubleTensor - empty\n",
       "          6 : DoubleTensor - empty\n",
       "          7 : DoubleTensor - empty\n",
       "          8 : DoubleTensor - empty\n",
       "        }\n",
       "      23 : \n",
       "        {\n",
       "          1 : DoubleTensor - empty\n",
       "          2 : DoubleTensor - empty\n",
       "          3 : DoubleTensor - empty\n",
       "          4 : DoubleTensor - empty\n",
       "          5 : DoubleTensor - empty\n",
       "          6 : DoubleTensor - empty\n",
       "          7 : DoubleTensor - empty\n",
       "          8 : DoubleTensor - empty\n",
       "        }\n",
       "      24 : \n",
       "        {\n",
       "          1 : DoubleTensor - empty\n",
       "          2 : DoubleTensor - empty\n",
       "          3 : DoubleTensor - empty\n",
       "          4 : DoubleTensor - empty\n",
       "          5 : DoubleTensor - empty\n",
       "          6 : DoubleTensor - empty\n",
       "          7 : DoubleTensor - empty\n",
       "          8 : DoubleTensor - empty\n",
       "        }\n",
       "      25 : \n",
       "        {\n",
       "          1 : DoubleTensor - empty\n",
       "          2 : DoubleTensor - empty\n",
       "          3 : DoubleTensor - empty\n",
       "         "
      ]
     },
     "execution_count": 8,
     "metadata": {},
     "output_type": "execute_result"
    },
    {
     "data": {
      "text/plain": [
       " 4 : DoubleTensor - empty\n",
       "          5 : DoubleTensor - empty\n",
       "          6 : DoubleTensor - empty\n",
       "          7 : DoubleTensor - empty\n",
       "          8 : DoubleTensor - empty\n",
       "        }\n",
       "    }\n",
       "  offsets_c : \n",
       "    {\n",
       "      1 : \n",
       "        {\n",
       "          1 : DoubleTensor - empty\n",
       "          2 : DoubleTensor - empty\n",
       "          3 : DoubleTensor - empty\n",
       "          4 : DoubleTensor - empty\n",
       "          5 : DoubleTensor - empty\n",
       "          6 : DoubleTensor - empty\n",
       "          7 : DoubleTensor - empty\n",
       "          8 : DoubleTensor - empty\n",
       "        }\n",
       "      2 : \n",
       "        {\n",
       "          1 : DoubleTensor - empty\n",
       "          2 : DoubleTensor - empty\n",
       "          3 : DoubleTensor - empty\n",
       "          4 : DoubleTensor - empty\n",
       "          5 : DoubleTensor - empty\n",
       "          6 : DoubleTensor - empty\n",
       "          7 : DoubleTensor - empty\n",
       "          8 : DoubleTensor - empty\n",
       "        }\n",
       "      3 : \n",
       "        {\n",
       "          1 : DoubleTensor - empty\n",
       "          2 : DoubleTensor - empty\n",
       "          3 : DoubleTensor - empty\n",
       "          4 : DoubleTensor - empty\n",
       "          5 : DoubleTensor - empty\n",
       "          6 : DoubleTensor - empty\n",
       "          7 : DoubleTensor - empty\n",
       "        "
      ]
     },
     "execution_count": 8,
     "metadata": {},
     "output_type": "execute_result"
    },
    {
     "data": {
      "text/plain": [
       "  8 : DoubleTensor - empty\n",
       "        }\n",
       "      4 : \n",
       "        {\n",
       "          1 : DoubleTensor - empty\n",
       "          2 : DoubleTensor - empty\n",
       "          3 : DoubleTensor - empty\n",
       "          4 : DoubleTensor - empty\n",
       "          5 : DoubleTensor - empty\n",
       "          6 : DoubleTensor - empty\n",
       "          7 : DoubleTensor - empty\n",
       "          8 : DoubleTensor - empty\n",
       "        }\n",
       "      5 : \n",
       "        {\n",
       "          1 : DoubleTensor - empty\n",
       "          2 : DoubleTensor - empty\n",
       "          3 : DoubleTensor - empty\n",
       "          4 : DoubleTensor - empty\n",
       "          5 : DoubleTensor - empty\n",
       "          6 : DoubleTensor - empty\n",
       "          7 : DoubleTensor - empty\n",
       "          8 : DoubleTensor - empty\n",
       "        }\n",
       "      6 : \n",
       "        {\n",
       "          1 : DoubleTensor - empty\n",
       "          2 : DoubleTensor - empty\n",
       "          3 : DoubleTensor - empty\n",
       "          4 : DoubleTensor - empty\n",
       "          5 : DoubleTensor - empty\n",
       "          6 : DoubleTensor - empty\n",
       "          7 : DoubleTensor - empty\n",
       "          8 : DoubleTensor - empty\n",
       "        }\n",
       "      7 : \n",
       "        {\n",
       "          1 : DoubleTensor - empty\n",
       "      "
      ]
     },
     "execution_count": 8,
     "metadata": {},
     "output_type": "execute_result"
    },
    {
     "data": {
      "text/plain": [
       "    2 : DoubleTensor - empty\n",
       "          3 : DoubleTensor - empty\n",
       "          4 : DoubleTensor - empty\n",
       "          5 : DoubleTensor - empty\n",
       "          6 : DoubleTensor - empty\n",
       "          7 : DoubleTensor - empty\n",
       "          8 : DoubleTensor - empty\n",
       "        }\n",
       "      8 : \n",
       "        {\n",
       "          1 : DoubleTensor - empty\n",
       "          2 : DoubleTensor - empty\n",
       "          3 : DoubleTensor - empty\n",
       "          4 : DoubleTensor - empty\n",
       "          5 : DoubleTensor - empty\n",
       "          6 : DoubleTensor - empty\n",
       "          7 : DoubleTensor - empty\n",
       "          8 : DoubleTensor - empty\n",
       "        }\n",
       "      9 : \n",
       "        {\n",
       "          1 : DoubleTensor - empty\n",
       "          2 : DoubleTensor - empty\n",
       "          3 : DoubleTensor - empty\n",
       "          4 : DoubleTensor - empty\n",
       "          5 : DoubleTensor - empty\n",
       "          6 : DoubleTensor - empty\n",
       "          7 : DoubleTensor - empty\n",
       "          8 : DoubleTensor - empty\n",
       "        }\n",
       "      10 : \n",
       "        {\n",
       "          1 : DoubleTensor - empty\n",
       "          2 : DoubleTensor - empty\n",
       "          3 : DoubleTensor - empty\n",
       "          4 : DoubleTensor - empty\n",
       "          5 : DoubleTensor - empty\n",
       " "
      ]
     },
     "execution_count": 8,
     "metadata": {},
     "output_type": "execute_result"
    },
    {
     "data": {
      "text/plain": [
       "         6 : DoubleTensor - empty\n",
       "          7 : DoubleTensor - empty\n",
       "          8 : DoubleTensor - empty\n",
       "        }\n",
       "      11 : \n",
       "        {\n",
       "          1 : DoubleTensor - empty\n",
       "          2 : DoubleTensor - empty\n",
       "          3 : DoubleTensor - empty\n",
       "          4 : DoubleTensor - empty\n",
       "          5 : DoubleTensor - empty\n",
       "          6 : DoubleTensor - empty\n",
       "          7 : DoubleTensor - empty\n",
       "          8 : DoubleTensor - empty\n",
       "        }\n",
       "      12 : \n",
       "        {\n",
       "          1 : DoubleTensor - empty\n",
       "          2 : DoubleTensor - empty\n",
       "          3 : DoubleTensor - empty\n",
       "          4 : DoubleTensor - empty\n",
       "          5 : DoubleTensor - empty\n",
       "          6 : DoubleTensor - empty\n",
       "          7 : DoubleTensor - empty\n",
       "          8 : DoubleTensor - empty\n",
       "        }\n",
       "      13 : \n",
       "        {\n",
       "          1 : DoubleTensor - empty\n",
       "          2 : DoubleTensor - empty\n",
       "          3 : DoubleTensor - empty\n",
       "          4 : DoubleTensor - empty\n",
       "          5 : DoubleTensor - empty\n",
       "          6 : DoubleTensor - empty\n"
      ]
     },
     "execution_count": 8,
     "metadata": {},
     "output_type": "execute_result"
    },
    {
     "data": {
      "text/plain": [
       "          7 : DoubleTensor - empty\n",
       "          8 : DoubleTensor - empty\n",
       "        }\n",
       "      14 : \n",
       "        {\n",
       "          1 : DoubleTensor - empty\n",
       "          2 : DoubleTensor - empty\n",
       "          3 : DoubleTensor - empty\n",
       "          4 : DoubleTensor - empty\n",
       "          5 : DoubleTensor - empty\n",
       "          6 : DoubleTensor - empty\n",
       "          7 : DoubleTensor - empty\n",
       "          8 : DoubleTensor - empty\n",
       "        }\n",
       "      15 : \n",
       "        {\n",
       "          1 : DoubleTensor - empty\n",
       "          2 : DoubleTensor - empty\n",
       "          3 : DoubleTensor - empty\n",
       "          4 : DoubleTensor - empty\n",
       "          5 : DoubleTensor - empty\n",
       "          6 : DoubleTensor - empty\n",
       "          7 : DoubleTensor - empty\n",
       "          8 : DoubleTensor - empty\n",
       "        }\n",
       "      16 : \n",
       "        {\n",
       "          1 : DoubleTensor - empty\n",
       "          2 : DoubleTensor - empty\n",
       "          3 : DoubleTensor - empty\n",
       "          4 : DoubleTensor - empty\n",
       "          5 : DoubleTensor - empty\n",
       "          6 : DoubleTensor - empty\n",
       "          7 : DoubleTensor - empty\n",
       "          8 : DoubleTensor - empty\n",
       "        }\n",
       "      17 : \n",
       "        {\n",
       "          1 : DoubleTensor - empty\n",
       "          2 : DoubleTensor - empty\n",
       "          3 : DoubleTensor - empty\n",
       "          4 : DoubleTensor - empty\n",
       "          5 : DoubleTensor - empty\n",
       "          6 : DoubleTensor - empty\n"
      ]
     },
     "execution_count": 8,
     "metadata": {},
     "output_type": "execute_result"
    },
    {
     "data": {
      "text/plain": [
       "          7 : DoubleTensor - empty\n",
       "          8 : DoubleTensor - empty\n",
       "        }\n",
       "      18 : \n",
       "        {\n",
       "          1 : DoubleTensor - empty\n",
       "          2 : DoubleTensor - empty\n",
       "          3 : DoubleTensor - empty\n",
       "          4 : DoubleTensor - empty\n",
       "          5 : DoubleTensor - empty\n",
       "          6 : DoubleTensor - empty\n",
       "          7 : DoubleTensor - empty\n",
       "          8 : DoubleTensor - empty\n",
       "        }\n",
       "      19 : \n",
       "        {\n",
       "          1 : DoubleTensor - empty\n",
       "          2 : DoubleTensor - empty\n",
       "          3 : DoubleTensor - empty\n",
       "          4 : DoubleTensor - empty\n",
       "          5 : DoubleTensor - empty\n",
       "          6 : DoubleTensor - empty\n",
       "          7 : DoubleTensor - empty\n",
       "          8 : DoubleTensor - empty\n",
       "        }\n",
       "      20 : \n",
       "        {\n",
       "          1 : DoubleTensor - empty\n",
       "          2 : DoubleTensor - empty\n",
       "          3 : DoubleTensor - empty\n",
       "          4 : DoubleTensor - empty\n",
       "          5 : DoubleTensor - empty\n",
       "          6 : DoubleTensor - empty\n",
       "          7 : DoubleTensor - empty\n",
       "          8 : DoubleTensor - empty\n",
       "        }\n",
       "      21 : \n",
       "        {\n",
       "          1 : DoubleTensor - empty\n",
       "          2 : DoubleTensor - empty\n",
       "          3 : DoubleTensor - empty\n",
       "          4 : DoubleTensor - empty\n",
       "          5 : DoubleTensor - empty\n",
       "          6 : DoubleTensor - empty\n"
      ]
     },
     "execution_count": 8,
     "metadata": {},
     "output_type": "execute_result"
    },
    {
     "data": {
      "text/plain": [
       "          7 : DoubleTensor - empty\n",
       "          8 : DoubleTensor - empty\n",
       "        }\n",
       "      22 : \n",
       "        {\n",
       "          1 : DoubleTensor - empty\n",
       "          2 : DoubleTensor - empty\n",
       "          3 : DoubleTensor - empty\n",
       "          4 : DoubleTensor - empty\n",
       "          5 : DoubleTensor - empty\n",
       "          6 : DoubleTensor - empty\n",
       "          7 : DoubleTensor - empty\n",
       "          8 : DoubleTensor - empty\n",
       "        }\n",
       "      23 : \n",
       "        {\n",
       "          1 : DoubleTensor - empty\n",
       "          2 : DoubleTensor - empty\n",
       "          3 : DoubleTensor - empty\n",
       "          4 : DoubleTensor - empty\n",
       "          5 : DoubleTensor - empty\n",
       "          6 : DoubleTensor - empty\n",
       "          7 : DoubleTensor - empty\n",
       "          8 : DoubleTensor - empty\n",
       "        }\n",
       "      24 : \n",
       "        {\n",
       "          1 : DoubleTensor - empty\n",
       "          2 : DoubleTensor - empty\n",
       "          3 : DoubleTensor - empty\n",
       "          4 : DoubleTensor - empty\n",
       "          5 : DoubleTensor - empty\n",
       "          6 : DoubleTensor - empty\n",
       "          7 : DoubleTensor - empty\n",
       "          8 : DoubleTensor - empty\n",
       "        }\n",
       "      25 : \n",
       "        {\n",
       "          1 : DoubleTensor - empty\n",
       "          2 : DoubleTensor - empty\n",
       "          3 : DoubleTensor - empty\n",
       "          4 : DoubleTensor - empty\n",
       "          5 : DoubleTensor - empty\n",
       "          6 : DoubleTensor - empty\n",
       "   "
      ]
     },
     "execution_count": 8,
     "metadata": {},
     "output_type": "execute_result"
    },
    {
     "data": {
      "text/plain": [
       "       7 : DoubleTensor - empty\n",
       "          8 : DoubleTensor - empty\n",
       "        }\n",
       "    }\n",
       "  weights : \n",
       "    {\n",
       "      1 : \n",
       "        {\n",
       "          1 : DoubleTensor - empty\n",
       "          2 : DoubleTensor - empty\n",
       "          3 : DoubleTensor - empty\n",
       "          4 : DoubleTensor - empty\n",
       "          5 : DoubleTensor - empty\n",
       "          6 : DoubleTensor - empty\n",
       "          7 : DoubleTensor - empty\n",
       "          8 : DoubleTensor - empty\n",
       "        }\n",
       "      2 : \n",
       "        {\n",
       "          1 : DoubleTensor - empty\n",
       "          2 : DoubleTensor - empty\n",
       "          3 : DoubleTensor - empty\n",
       "          4 : DoubleTensor - empty\n",
       "          5 : DoubleTensor - empty\n",
       "          6 : DoubleTensor - empty\n",
       "          7 : DoubleTensor - empty\n",
       "          8 : DoubleTensor - empty\n",
       "        }\n",
       "      3 : \n",
       "        {\n",
       "          1 : DoubleTensor - empty\n",
       "          2 : DoubleTensor - empty\n",
       "          3 : DoubleTensor - empty\n",
       "          4 : DoubleTensor - empty\n",
       "          5 : DoubleTensor - empty\n",
       "          6 : DoubleTensor - empty\n",
       "          7 : DoubleTensor - empty\n",
       "          8 : DoubleTensor - empty\n",
       "        }\n",
       "      4 : \n",
       "        {\n",
       "          1 : DoubleTensor - empty\n",
       "          2 : DoubleTensor - empty\n",
       "          3 : DoubleTensor - empty\n",
       "          4 : DoubleTensor - empty\n"
      ]
     },
     "execution_count": 8,
     "metadata": {},
     "output_type": "execute_result"
    },
    {
     "data": {
      "text/plain": [
       "          5 : DoubleTensor - empty\n",
       "          6 : DoubleTensor - empty\n",
       "          7 : DoubleTensor - empty\n",
       "          8 : DoubleTensor - empty\n",
       "        }\n",
       "      5 : \n",
       "        {\n",
       "          1 : DoubleTensor - empty\n",
       "          2 : DoubleTensor - empty\n",
       "          3 : DoubleTensor - empty\n",
       "          4 : DoubleTensor - empty\n",
       "          5 : DoubleTensor - empty\n",
       "          6 : DoubleTensor - empty\n",
       "          7 : DoubleTensor - empty\n",
       "          8 : DoubleTensor - empty\n",
       "        }\n",
       "      6 : \n",
       "        {\n",
       "          1 : DoubleTensor - empty\n",
       "          2 : DoubleTensor - empty\n",
       "          3 : DoubleTensor - empty\n",
       "          4 : DoubleTensor - empty\n",
       "          5 : DoubleTensor - empty\n",
       "          6 : DoubleTensor - empty\n",
       "          7 : DoubleTensor - empty\n",
       "          8 : DoubleTensor - empty\n",
       "        }\n",
       "      7 : \n",
       "        {\n",
       "          1 : DoubleTensor - empty\n",
       "          2 : DoubleTensor - empty\n",
       "          3 : DoubleTensor - empty\n",
       "          4 : DoubleTensor - empty\n",
       "          5 : DoubleTensor - empty\n",
       "          6 : DoubleTensor - empty\n",
       "          7 : DoubleTensor - empty\n",
       "          8 : DoubleTensor - empty\n",
       "        }\n",
       "      8 : \n",
       "        {\n",
       "          1 : DoubleTensor - empty\n",
       "          2 : DoubleTensor - empty\n",
       "          3 : DoubleTensor - empty\n",
       "    "
      ]
     },
     "execution_count": 8,
     "metadata": {},
     "output_type": "execute_result"
    },
    {
     "data": {
      "text/plain": [
       "      4 : DoubleTensor - empty\n",
       "          5 : DoubleTensor - empty\n",
       "          6 : DoubleTensor - empty\n",
       "          7 : DoubleTensor - empty\n",
       "          8 : DoubleTensor - empty\n",
       "        }\n",
       "      9 : \n",
       "        {\n",
       "          1 : DoubleTensor - empty\n",
       "          2 : DoubleTensor - empty\n",
       "          3 : DoubleTensor - empty\n",
       "          4 : DoubleTensor - empty\n",
       "          5 : DoubleTensor - empty\n",
       "          6 : DoubleTensor - empty\n",
       "          7 : DoubleTensor - empty\n",
       "          8 : DoubleTensor - empty\n",
       "        }\n",
       "      10 : \n",
       "        {\n",
       "          1 : DoubleTensor - empty\n",
       "          2 : DoubleTensor - empty\n",
       "          3 : DoubleTensor - empty\n",
       "          4 : DoubleTensor - empty\n",
       "          5 : DoubleTensor - empty\n",
       "          6 : DoubleTensor - empty\n",
       "          7 : DoubleTensor - empty\n",
       "          8 : DoubleTensor - empty\n",
       "        }\n",
       "      11 : \n",
       "        {\n",
       "          1 : DoubleTensor - empty\n",
       "          2 : DoubleTensor - empty\n",
       "          3 : DoubleTensor - empty\n",
       "          4 : DoubleTensor - empty\n",
       "          5 : DoubleTensor - empty\n",
       "          6 : DoubleTensor - empty\n",
       "          7 : DoubleTensor - empty\n",
       "          8 : DoubleTensor - empty\n",
       "        }\n",
       "      12 : \n",
       "        {\n",
       "          1 : DoubleTensor - empty\n",
       "          2 : DoubleTensor - empty\n",
       "          3 : DoubleTensor - empty"
      ]
     },
     "execution_count": 8,
     "metadata": {},
     "output_type": "execute_result"
    },
    {
     "data": {
      "text/plain": [
       "\n",
       "          4 : DoubleTensor - empty\n",
       "          5 : DoubleTensor - empty\n",
       "          6 : DoubleTensor - empty\n",
       "          7 : DoubleTensor - empty\n",
       "          8 : DoubleTensor - empty\n",
       "        }\n",
       "      13 : \n",
       "        {\n",
       "          1 : DoubleTensor - empty\n",
       "          2 : DoubleTensor - empty\n",
       "          3 : DoubleTensor - empty\n",
       "          4 : DoubleTensor - empty\n",
       "          5 : DoubleTensor - empty\n",
       "          6 : DoubleTensor - empty\n",
       "          7 : DoubleTensor - empty\n",
       "          8 : DoubleTensor - empty\n",
       "        }\n",
       "      14 : \n",
       "        {\n",
       "          1 : DoubleTensor - empty\n",
       "          2 : DoubleTensor - empty\n",
       "          3 : DoubleTensor - empty\n",
       "          4 : DoubleTensor - empty\n",
       "          5 : DoubleTensor - empty\n",
       "          6 : DoubleTensor - empty\n",
       "          7 : DoubleTensor - empty\n",
       "          8 : DoubleTensor - empty\n",
       "        }\n",
       "      15 : \n",
       "        {\n",
       "          1 : DoubleTensor - empty\n",
       "          2 : DoubleTensor - empty\n",
       "          3 : DoubleTensor - empty\n",
       "          4 : DoubleTensor - empty\n",
       "          5 : DoubleTensor - empty\n",
       "          6 : DoubleTensor - empty\n",
       "          7 : DoubleTensor - empty\n",
       "          8 : DoubleTensor - empty\n",
       "        }\n",
       "      16 : \n",
       "        {\n",
       "          1 : DoubleTensor - empty\n"
      ]
     },
     "execution_count": 8,
     "metadata": {},
     "output_type": "execute_result"
    },
    {
     "data": {
      "text/plain": [
       "          2 : DoubleTensor - empty\n",
       "          3 : DoubleTensor - empty\n",
       "          4 : DoubleTensor - empty\n",
       "          5 : DoubleTensor - empty\n",
       "          6 : DoubleTensor - empty\n",
       "          7 : DoubleTensor - empty\n",
       "          8 : DoubleTensor - empty\n",
       "        }\n",
       "      17 : \n",
       "        {\n",
       "          1 : DoubleTensor - empty\n",
       "          2 : DoubleTensor - empty\n",
       "          3 : DoubleTensor - empty\n",
       "          4 : DoubleTensor - empty\n",
       "          5 : DoubleTensor - empty\n",
       "          6 : DoubleTensor - empty\n",
       "          7 : DoubleTensor - empty\n",
       "          8 : DoubleTensor - empty\n",
       "        }\n",
       "      18 : \n",
       "        {\n",
       "          1 : DoubleTensor - empty\n",
       "          2 : DoubleTensor - empty\n",
       "          3 : DoubleTensor - empty\n",
       "          4 : DoubleTensor - empty\n",
       "          5 : DoubleTensor - empty\n",
       "          6 : DoubleTensor - empty\n",
       "          7 : DoubleTensor - empty\n",
       "          8 : DoubleTensor - empty\n",
       "        }\n",
       "      19 : \n",
       "        {\n",
       "          1 : DoubleTensor - empty\n",
       "          2 : DoubleTensor - empty\n",
       "          3 : DoubleTensor - empty\n",
       "          4 : DoubleTensor - empty\n",
       "          5 : DoubleTensor - empty\n",
       "          6 : DoubleTensor - empty\n",
       "          7 : DoubleTensor - empty\n",
       "          8 : DoubleTensor - empty\n",
       "        }\n",
       "      20 : \n",
       "        {\n",
       "      "
      ]
     },
     "execution_count": 8,
     "metadata": {},
     "output_type": "execute_result"
    },
    {
     "data": {
      "text/plain": [
       "    1 : DoubleTensor - empty\n",
       "          2 : DoubleTensor - empty\n",
       "          3 : DoubleTensor - empty\n",
       "          4 : DoubleTensor - empty\n",
       "          5 : DoubleTensor - empty\n",
       "          6 : DoubleTensor - empty\n",
       "          7 : DoubleTensor - empty\n",
       "          8 : DoubleTensor - empty\n",
       "        }\n",
       "      21 : \n",
       "        {\n",
       "          1 : DoubleTensor - empty\n",
       "          2 : DoubleTensor - empty\n",
       "          3 : DoubleTensor - empty\n",
       "          4 : DoubleTensor - empty\n",
       "          5 : DoubleTensor - empty\n",
       "          6 : DoubleTensor - empty\n",
       "          7 : DoubleTensor - empty\n",
       "          8 : DoubleTensor - empty\n",
       "        }\n",
       "      22 : \n",
       "        {\n",
       "          1 : DoubleTensor - empty\n",
       "          2 : DoubleTensor - empty\n",
       "          3 : DoubleTensor - empty\n",
       "          4 : DoubleTensor - empty\n",
       "          5 : DoubleTensor - empty\n",
       "          6 : DoubleTensor - empty\n",
       "          7 : DoubleTensor - empty\n",
       "          8 : DoubleTensor - empty\n",
       "        }\n",
       "      23 : \n",
       "        {\n",
       "          1 : DoubleTensor - empty\n",
       "          2 : DoubleTensor - empty\n",
       "          3 : DoubleTensor - empty\n",
       "          4 : DoubleTensor - empty\n",
       "          5 : DoubleTensor - empty\n",
       "          6 : DoubleTensor - empty\n",
       "          7 : DoubleTensor - empty\n",
       "          8 : DoubleTensor - empty\n",
       "        }\n"
      ]
     },
     "execution_count": 8,
     "metadata": {},
     "output_type": "execute_result"
    },
    {
     "data": {
      "text/plain": [
       "      24 : \n",
       "        {\n",
       "          1 : DoubleTensor - empty\n",
       "          2 : DoubleTensor - empty\n",
       "          3 : DoubleTensor - empty\n",
       "          4 : DoubleTensor - empty\n",
       "          5 : DoubleTensor - empty\n",
       "          6 : DoubleTensor - empty\n",
       "          7 : DoubleTensor - empty\n",
       "          8 : DoubleTensor - empty\n",
       "        }\n",
       "      25 : \n",
       "        {\n",
       "          1 : DoubleTensor - empty\n",
       "          2 : DoubleTensor - empty\n",
       "          3 : DoubleTensor - empty\n",
       "          4 : DoubleTensor - empty\n",
       "          5 : DoubleTensor - empty\n",
       "          6 : DoubleTensor - empty\n",
       "          7 : DoubleTensor - empty\n",
       "          8 : DoubleTensor - empty\n",
       "        }\n",
       "    }\n",
       "  areas : DoubleTensor - size: 25x8\n",
       "  regions : DoubleTensor - size: 25x8x477x477\n",
       "}\n"
      ]
     },
     "execution_count": 8,
     "metadata": {},
     "output_type": "execute_result"
    }
   ],
   "source": [
    "filters"
   ]
  },
  {
   "cell_type": "code",
   "execution_count": null,
   "metadata": {
    "collapsed": true
   },
   "outputs": [],
   "source": []
  }
 ],
 "metadata": {
  "kernelspec": {
   "display_name": "iTorch",
   "language": "lua",
   "name": "itorch"
  },
  "language_info": {
   "name": "lua",
   "version": "5.1"
  }
 },
 "nbformat": 4,
 "nbformat_minor": 0
}
